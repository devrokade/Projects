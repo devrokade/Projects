{
 "cells": [
  {
   "cell_type": "markdown",
   "metadata": {},
   "source": [
    "# HW2_solutions_rokade"
   ]
  },
  {
   "cell_type": "markdown",
   "metadata": {},
   "source": [
    "### Instructions\n",
    "1) Start the first cell with your last name, HW/Lab number, etc. For example, HW2_solutions_basnet.\n",
    "\n",
    "2) After you finish the HW, click File on the top left and click \"download as.\" You will see many options. Please save the file as .ipynb and .html file.\n",
    "\n",
    "3) To submit HW solutions, go to our course in Canvas --> Assignments --> HW 2 --> Submit Assignment --> Click \"Chose file\" --> choose HTML file you saved --> Click another file--> choose ipynb file--submit. Once you submit, download  and check to make sure that you have submitted the correct files.\n",
    "##### ( Both HTML and ipynb files are required for your HW to be graded from now on)\n",
    "\n",
    "4) Your submission will be compared against other student's solutions and online databases to check plagiarism.\n",
    "\n",
    "5) You can use this ipynb file to start your solution\n",
    "\n",
    "6) I will make HWs due on Tuesdays so that you do not have 2 assignments due on Fridays. Each problem is worth 10 points."
   ]
  },
  {
   "cell_type": "code",
   "execution_count": 65,
   "metadata": {},
   "outputs": [],
   "source": [
    "import pandas as pd\n",
    "import numpy as np\n",
    "columns2use = ['author_average_rating', 'author_gender','author_name','birthplace','book_average_rating',\n",
    "              'book_title', 'genre_1','num_ratings', 'num_reviews', 'pages','score']"
   ]
  },
  {
   "cell_type": "markdown",
   "metadata": {},
   "source": [
    "### Problem 1\n",
    "Upload the grbooks.csv data in your Jupyter Notebook.  Then, select only the variables listed in the list columns2use in the previous cell and create a new data frame. Find the data type of each of the variables. Do all the variables have correct labels as objects (Categorical) or numbers? Which variable has a wrong datatype?"
   ]
  },
  {
   "cell_type": "code",
   "execution_count": 146,
   "metadata": {},
   "outputs": [
    {
     "data": {
      "text/html": [
       "<div>\n",
       "<style scoped>\n",
       "    .dataframe tbody tr th:only-of-type {\n",
       "        vertical-align: middle;\n",
       "    }\n",
       "\n",
       "    .dataframe tbody tr th {\n",
       "        vertical-align: top;\n",
       "    }\n",
       "\n",
       "    .dataframe thead th {\n",
       "        text-align: right;\n",
       "    }\n",
       "</style>\n",
       "<table border=\"1\" class=\"dataframe\">\n",
       "  <thead>\n",
       "    <tr style=\"text-align: right;\">\n",
       "      <th></th>\n",
       "      <th>author_average_rating</th>\n",
       "      <th>author_gender</th>\n",
       "      <th>author_genres</th>\n",
       "      <th>author_id</th>\n",
       "      <th>author_name</th>\n",
       "      <th>author_page_url</th>\n",
       "      <th>author_rating_count</th>\n",
       "      <th>author_review_count</th>\n",
       "      <th>birthplace</th>\n",
       "      <th>book_average_rating</th>\n",
       "      <th>book_fullurl</th>\n",
       "      <th>book_id</th>\n",
       "      <th>book_title</th>\n",
       "      <th>genre_1</th>\n",
       "      <th>genre_2</th>\n",
       "      <th>num_ratings</th>\n",
       "      <th>num_reviews</th>\n",
       "      <th>pages</th>\n",
       "      <th>publish_date</th>\n",
       "      <th>score</th>\n",
       "    </tr>\n",
       "  </thead>\n",
       "  <tbody>\n",
       "    <tr>\n",
       "      <th>0</th>\n",
       "      <td>4.01</td>\n",
       "      <td>female</td>\n",
       "      <td>historical-fiction,</td>\n",
       "      <td>74489</td>\n",
       "      <td>Victoria Thompson\\n</td>\n",
       "      <td>/author/show/74489.Victoria_Thompson</td>\n",
       "      <td>74399</td>\n",
       "      <td>6268</td>\n",
       "      <td>United States\\n</td>\n",
       "      <td>4.02</td>\n",
       "      <td>https://www.goodreads.com/book/show/686717.Mur...</td>\n",
       "      <td>686717</td>\n",
       "      <td>\\n      Murder on St. Mark's Place\\n</td>\n",
       "      <td>Mystery</td>\n",
       "      <td>Historical</td>\n",
       "      <td>5260</td>\n",
       "      <td>375</td>\n",
       "      <td>277</td>\n",
       "      <td>2000</td>\n",
       "      <td>3230</td>\n",
       "    </tr>\n",
       "    <tr>\n",
       "      <th>1</th>\n",
       "      <td>4.15</td>\n",
       "      <td>male</td>\n",
       "      <td>literature-fiction,mystery-thrillers,</td>\n",
       "      <td>706255</td>\n",
       "      <td>Stieg Larsson\\n</td>\n",
       "      <td>/author/show/706255.Stieg_Larsson</td>\n",
       "      <td>3726435</td>\n",
       "      <td>142704</td>\n",
       "      <td>Sweden\\n</td>\n",
       "      <td>4.13</td>\n",
       "      <td>https://www.goodreads.com/book/show/2429135.Th...</td>\n",
       "      <td>2429135</td>\n",
       "      <td>\\n      The Girl with the Dragon Tattoo\\n</td>\n",
       "      <td>Fiction</td>\n",
       "      <td>Mystery</td>\n",
       "      <td>2229163</td>\n",
       "      <td>65227</td>\n",
       "      <td>465</td>\n",
       "      <td>August 2005</td>\n",
       "      <td>3062</td>\n",
       "    </tr>\n",
       "    <tr>\n",
       "      <th>2</th>\n",
       "      <td>4.00</td>\n",
       "      <td>female</td>\n",
       "      <td>romance,</td>\n",
       "      <td>5618190</td>\n",
       "      <td>Mimi Jean Pamfiloff\\n</td>\n",
       "      <td>/author/show/5618190.Mimi_Jean_Pamfiloff</td>\n",
       "      <td>76496</td>\n",
       "      <td>7975</td>\n",
       "      <td>United States\\n</td>\n",
       "      <td>3.99</td>\n",
       "      <td>https://www.goodreads.com/book/show/27833684-t...</td>\n",
       "      <td>27833684</td>\n",
       "      <td>\\n      Tailored for Trouble\\n</td>\n",
       "      <td>Romance</td>\n",
       "      <td>Contemporary</td>\n",
       "      <td>2151</td>\n",
       "      <td>391</td>\n",
       "      <td>354</td>\n",
       "      <td>2016</td>\n",
       "      <td>4585</td>\n",
       "    </tr>\n",
       "    <tr>\n",
       "      <th>3</th>\n",
       "      <td>3.88</td>\n",
       "      <td>male</td>\n",
       "      <td>fiction,memoir,</td>\n",
       "      <td>37871</td>\n",
       "      <td>José Donoso\\n</td>\n",
       "      <td>/author/show/37871.Jos_Donoso</td>\n",
       "      <td>5522</td>\n",
       "      <td>489</td>\n",
       "      <td>Chile\\n</td>\n",
       "      <td>4.14</td>\n",
       "      <td>https://www.goodreads.com/book/show/382975.The...</td>\n",
       "      <td>382975</td>\n",
       "      <td>\\n      The Obscene Bird of Night\\n</td>\n",
       "      <td>Fiction</td>\n",
       "      <td>Magical Realism</td>\n",
       "      <td>1844</td>\n",
       "      <td>173</td>\n",
       "      <td>438</td>\n",
       "      <td>1970</td>\n",
       "      <td>1533</td>\n",
       "    </tr>\n",
       "    <tr>\n",
       "      <th>4</th>\n",
       "      <td>4.10</td>\n",
       "      <td>female</td>\n",
       "      <td>young-adult,fantasy,</td>\n",
       "      <td>36122</td>\n",
       "      <td>Patricia C. Wrede\\n</td>\n",
       "      <td>/author/show/36122.Patricia_C_Wrede</td>\n",
       "      <td>291013</td>\n",
       "      <td>13453</td>\n",
       "      <td>United States\\n</td>\n",
       "      <td>4.01</td>\n",
       "      <td>https://www.goodreads.com/book/show/64207.Sorc...</td>\n",
       "      <td>64207</td>\n",
       "      <td>\\n      Sorcery &amp; Cecelia: or The Enchanted Ch...</td>\n",
       "      <td>Fantasy</td>\n",
       "      <td>Young Adult</td>\n",
       "      <td>17051</td>\n",
       "      <td>1890</td>\n",
       "      <td>326</td>\n",
       "      <td>April 15th 1988</td>\n",
       "      <td>2105</td>\n",
       "    </tr>\n",
       "    <tr>\n",
       "      <th>...</th>\n",
       "      <td>...</td>\n",
       "      <td>...</td>\n",
       "      <td>...</td>\n",
       "      <td>...</td>\n",
       "      <td>...</td>\n",
       "      <td>...</td>\n",
       "      <td>...</td>\n",
       "      <td>...</td>\n",
       "      <td>...</td>\n",
       "      <td>...</td>\n",
       "      <td>...</td>\n",
       "      <td>...</td>\n",
       "      <td>...</td>\n",
       "      <td>...</td>\n",
       "      <td>...</td>\n",
       "      <td>...</td>\n",
       "      <td>...</td>\n",
       "      <td>...</td>\n",
       "      <td>...</td>\n",
       "      <td>...</td>\n",
       "    </tr>\n",
       "    <tr>\n",
       "      <th>8187</th>\n",
       "      <td>3.91</td>\n",
       "      <td>male</td>\n",
       "      <td>romance,</td>\n",
       "      <td>13536087</td>\n",
       "      <td>Paige Laurens\\n</td>\n",
       "      <td>/author/show/13536087.Paige_Laurens</td>\n",
       "      <td>1408</td>\n",
       "      <td>139</td>\n",
       "      <td>United States\\n</td>\n",
       "      <td>3.96</td>\n",
       "      <td>https://www.goodreads.com/book/show/25004287-b...</td>\n",
       "      <td>25004287</td>\n",
       "      <td>\\n      Beautiful Torment\\n</td>\n",
       "      <td>New Adult</td>\n",
       "      <td>Romance</td>\n",
       "      <td>831</td>\n",
       "      <td>91</td>\n",
       "      <td>216</td>\n",
       "      <td>2015</td>\n",
       "      <td>1412</td>\n",
       "    </tr>\n",
       "    <tr>\n",
       "      <th>8188</th>\n",
       "      <td>3.86</td>\n",
       "      <td>male</td>\n",
       "      <td>science-fiction-fantasy,</td>\n",
       "      <td>8835</td>\n",
       "      <td>Tim Powers\\n</td>\n",
       "      <td>/author/show/8835.Tim_Powers</td>\n",
       "      <td>63860</td>\n",
       "      <td>6052</td>\n",
       "      <td>United States\\n</td>\n",
       "      <td>3.94</td>\n",
       "      <td>https://www.goodreads.com/book/show/142296.The...</td>\n",
       "      <td>142296</td>\n",
       "      <td>\\n      The Anubis Gates\\n</td>\n",
       "      <td>Fantasy</td>\n",
       "      <td>Science Fiction</td>\n",
       "      <td>13174</td>\n",
       "      <td>1183</td>\n",
       "      <td>387</td>\n",
       "      <td>1983</td>\n",
       "      <td>6134</td>\n",
       "    </tr>\n",
       "    <tr>\n",
       "      <th>8189</th>\n",
       "      <td>4.15</td>\n",
       "      <td>male</td>\n",
       "      <td>science-fiction-fantasy,fiction,speculative,</td>\n",
       "      <td>130698</td>\n",
       "      <td>Ted Chiang\\n</td>\n",
       "      <td>/author/show/130698.Ted_Chiang</td>\n",
       "      <td>62069</td>\n",
       "      <td>7887</td>\n",
       "      <td>United States\\n</td>\n",
       "      <td>4.26</td>\n",
       "      <td>https://www.goodreads.com/book/show/223380.Sto...</td>\n",
       "      <td>223380</td>\n",
       "      <td>\\n      Stories of Your Life and Others\\n</td>\n",
       "      <td>Science Fiction</td>\n",
       "      <td>Short Stories</td>\n",
       "      <td>37117</td>\n",
       "      <td>5006</td>\n",
       "      <td>281</td>\n",
       "      <td>July 2002</td>\n",
       "      <td>6790</td>\n",
       "    </tr>\n",
       "    <tr>\n",
       "      <th>8190</th>\n",
       "      <td>3.98</td>\n",
       "      <td>male</td>\n",
       "      <td>young-adult,</td>\n",
       "      <td>6449464</td>\n",
       "      <td>Tracie Puckett\\n</td>\n",
       "      <td>/author/show/6449464.Tracie_Puckett</td>\n",
       "      <td>24166</td>\n",
       "      <td>1305</td>\n",
       "      <td>\\n   United States\\n</td>\n",
       "      <td>4.23</td>\n",
       "      <td>https://www.goodreads.com/book/show/17876011-t...</td>\n",
       "      <td>17876011</td>\n",
       "      <td>\\n      The Webster Grove Series\\n</td>\n",
       "      <td>Young Adult</td>\n",
       "      <td>Romance</td>\n",
       "      <td>660</td>\n",
       "      <td>42</td>\n",
       "      <td>395</td>\n",
       "      <td>NaN</td>\n",
       "      <td>1404</td>\n",
       "    </tr>\n",
       "    <tr>\n",
       "      <th>8191</th>\n",
       "      <td>4.02</td>\n",
       "      <td>male</td>\n",
       "      <td>horror,</td>\n",
       "      <td>114504</td>\n",
       "      <td>Scott Sigler\\n</td>\n",
       "      <td>/author/show/114504.Scott_Sigler</td>\n",
       "      <td>83990</td>\n",
       "      <td>8268</td>\n",
       "      <td>\\n   United States\\n</td>\n",
       "      <td>4.29</td>\n",
       "      <td>https://www.goodreads.com/book/show/5306171-th...</td>\n",
       "      <td>5306171</td>\n",
       "      <td>\\n      The Rookie\\n</td>\n",
       "      <td>Science Fiction</td>\n",
       "      <td>Fiction</td>\n",
       "      <td>3104</td>\n",
       "      <td>228</td>\n",
       "      <td>1 page</td>\n",
       "      <td>by</td>\n",
       "      <td>9587</td>\n",
       "    </tr>\n",
       "  </tbody>\n",
       "</table>\n",
       "<p>8192 rows × 20 columns</p>\n",
       "</div>"
      ],
      "text/plain": [
       "      author_average_rating author_gender  \\\n",
       "0                      4.01        female   \n",
       "1                      4.15          male   \n",
       "2                      4.00        female   \n",
       "3                      3.88          male   \n",
       "4                      4.10        female   \n",
       "...                     ...           ...   \n",
       "8187                   3.91          male   \n",
       "8188                   3.86          male   \n",
       "8189                   4.15          male   \n",
       "8190                   3.98          male   \n",
       "8191                   4.02          male   \n",
       "\n",
       "                                     author_genres  author_id  \\\n",
       "0                              historical-fiction,      74489   \n",
       "1            literature-fiction,mystery-thrillers,     706255   \n",
       "2                                         romance,    5618190   \n",
       "3                                  fiction,memoir,      37871   \n",
       "4                             young-adult,fantasy,      36122   \n",
       "...                                            ...        ...   \n",
       "8187                                      romance,   13536087   \n",
       "8188                      science-fiction-fantasy,       8835   \n",
       "8189  science-fiction-fantasy,fiction,speculative,     130698   \n",
       "8190                                  young-adult,    6449464   \n",
       "8191                                       horror,     114504   \n",
       "\n",
       "                author_name                           author_page_url  \\\n",
       "0       Victoria Thompson\\n      /author/show/74489.Victoria_Thompson   \n",
       "1           Stieg Larsson\\n         /author/show/706255.Stieg_Larsson   \n",
       "2     Mimi Jean Pamfiloff\\n  /author/show/5618190.Mimi_Jean_Pamfiloff   \n",
       "3             José Donoso\\n             /author/show/37871.Jos_Donoso   \n",
       "4       Patricia C. Wrede\\n       /author/show/36122.Patricia_C_Wrede   \n",
       "...                     ...                                       ...   \n",
       "8187        Paige Laurens\\n       /author/show/13536087.Paige_Laurens   \n",
       "8188           Tim Powers\\n              /author/show/8835.Tim_Powers   \n",
       "8189           Ted Chiang\\n            /author/show/130698.Ted_Chiang   \n",
       "8190       Tracie Puckett\\n       /author/show/6449464.Tracie_Puckett   \n",
       "8191         Scott Sigler\\n          /author/show/114504.Scott_Sigler   \n",
       "\n",
       "      author_rating_count  author_review_count                birthplace  \\\n",
       "0                   74399                 6268       United States\\n       \n",
       "1                 3726435               142704              Sweden\\n       \n",
       "2                   76496                 7975         United States\\n     \n",
       "3                    5522                  489               Chile\\n       \n",
       "4                  291013                13453       United States\\n       \n",
       "...                   ...                  ...                       ...   \n",
       "8187                 1408                  139         United States\\n     \n",
       "8188                63860                 6052       United States\\n       \n",
       "8189                62069                 7887         United States\\n     \n",
       "8190                24166                 1305    \\n   United States\\n     \n",
       "8191                83990                 8268  \\n   United States\\n       \n",
       "\n",
       "      book_average_rating                                       book_fullurl  \\\n",
       "0                    4.02  https://www.goodreads.com/book/show/686717.Mur...   \n",
       "1                    4.13  https://www.goodreads.com/book/show/2429135.Th...   \n",
       "2                    3.99  https://www.goodreads.com/book/show/27833684-t...   \n",
       "3                    4.14  https://www.goodreads.com/book/show/382975.The...   \n",
       "4                    4.01  https://www.goodreads.com/book/show/64207.Sorc...   \n",
       "...                   ...                                                ...   \n",
       "8187                 3.96  https://www.goodreads.com/book/show/25004287-b...   \n",
       "8188                 3.94  https://www.goodreads.com/book/show/142296.The...   \n",
       "8189                 4.26  https://www.goodreads.com/book/show/223380.Sto...   \n",
       "8190                 4.23  https://www.goodreads.com/book/show/17876011-t...   \n",
       "8191                 4.29  https://www.goodreads.com/book/show/5306171-th...   \n",
       "\n",
       "       book_id                                         book_title  \\\n",
       "0       686717               \\n      Murder on St. Mark's Place\\n   \n",
       "1      2429135          \\n      The Girl with the Dragon Tattoo\\n   \n",
       "2     27833684                     \\n      Tailored for Trouble\\n   \n",
       "3       382975                \\n      The Obscene Bird of Night\\n   \n",
       "4        64207  \\n      Sorcery & Cecelia: or The Enchanted Ch...   \n",
       "...        ...                                                ...   \n",
       "8187  25004287                        \\n      Beautiful Torment\\n   \n",
       "8188    142296                         \\n      The Anubis Gates\\n   \n",
       "8189    223380          \\n      Stories of Your Life and Others\\n   \n",
       "8190  17876011                 \\n      The Webster Grove Series\\n   \n",
       "8191   5306171                               \\n      The Rookie\\n   \n",
       "\n",
       "              genre_1          genre_2  num_ratings  num_reviews   pages  \\\n",
       "0             Mystery       Historical         5260          375     277   \n",
       "1             Fiction          Mystery      2229163        65227     465   \n",
       "2             Romance     Contemporary         2151          391     354   \n",
       "3             Fiction  Magical Realism         1844          173     438   \n",
       "4             Fantasy      Young Adult        17051         1890     326   \n",
       "...               ...              ...          ...          ...     ...   \n",
       "8187        New Adult          Romance          831           91     216   \n",
       "8188          Fantasy  Science Fiction        13174         1183     387   \n",
       "8189  Science Fiction    Short Stories        37117         5006     281   \n",
       "8190      Young Adult          Romance          660           42     395   \n",
       "8191  Science Fiction          Fiction         3104          228  1 page   \n",
       "\n",
       "         publish_date  score  \n",
       "0                2000   3230  \n",
       "1         August 2005   3062  \n",
       "2                2016   4585  \n",
       "3                1970   1533  \n",
       "4     April 15th 1988   2105  \n",
       "...               ...    ...  \n",
       "8187             2015   1412  \n",
       "8188             1983   6134  \n",
       "8189        July 2002   6790  \n",
       "8190              NaN   1404  \n",
       "8191               by   9587  \n",
       "\n",
       "[8192 rows x 20 columns]"
      ]
     },
     "execution_count": 146,
     "metadata": {},
     "output_type": "execute_result"
    }
   ],
   "source": [
    "df=pd.read_csv('grbooks.csv')\n",
    "df.head(8192)"
   ]
  },
  {
   "cell_type": "code",
   "execution_count": 136,
   "metadata": {},
   "outputs": [
    {
     "data": {
      "text/html": [
       "<div>\n",
       "<style scoped>\n",
       "    .dataframe tbody tr th:only-of-type {\n",
       "        vertical-align: middle;\n",
       "    }\n",
       "\n",
       "    .dataframe tbody tr th {\n",
       "        vertical-align: top;\n",
       "    }\n",
       "\n",
       "    .dataframe thead th {\n",
       "        text-align: right;\n",
       "    }\n",
       "</style>\n",
       "<table border=\"1\" class=\"dataframe\">\n",
       "  <thead>\n",
       "    <tr style=\"text-align: right;\">\n",
       "      <th></th>\n",
       "      <th>author_average_rating</th>\n",
       "      <th>author_gender</th>\n",
       "      <th>author_name</th>\n",
       "      <th>birthplace</th>\n",
       "      <th>book_average_rating</th>\n",
       "      <th>book_title</th>\n",
       "      <th>genre_1</th>\n",
       "      <th>num_ratings</th>\n",
       "      <th>num_reviews</th>\n",
       "      <th>pages</th>\n",
       "      <th>score</th>\n",
       "    </tr>\n",
       "  </thead>\n",
       "  <tbody>\n",
       "    <tr>\n",
       "      <th>0</th>\n",
       "      <td>4.01</td>\n",
       "      <td>female</td>\n",
       "      <td>Victoria Thompson\\n</td>\n",
       "      <td>United States\\n</td>\n",
       "      <td>4.02</td>\n",
       "      <td>\\n      Murder on St. Mark's Place\\n</td>\n",
       "      <td>Mystery</td>\n",
       "      <td>5260</td>\n",
       "      <td>375</td>\n",
       "      <td>277</td>\n",
       "      <td>3230</td>\n",
       "    </tr>\n",
       "    <tr>\n",
       "      <th>1</th>\n",
       "      <td>4.15</td>\n",
       "      <td>male</td>\n",
       "      <td>Stieg Larsson\\n</td>\n",
       "      <td>Sweden\\n</td>\n",
       "      <td>4.13</td>\n",
       "      <td>\\n      The Girl with the Dragon Tattoo\\n</td>\n",
       "      <td>Fiction</td>\n",
       "      <td>2229163</td>\n",
       "      <td>65227</td>\n",
       "      <td>465</td>\n",
       "      <td>3062</td>\n",
       "    </tr>\n",
       "    <tr>\n",
       "      <th>2</th>\n",
       "      <td>4.00</td>\n",
       "      <td>female</td>\n",
       "      <td>Mimi Jean Pamfiloff\\n</td>\n",
       "      <td>United States\\n</td>\n",
       "      <td>3.99</td>\n",
       "      <td>\\n      Tailored for Trouble\\n</td>\n",
       "      <td>Romance</td>\n",
       "      <td>2151</td>\n",
       "      <td>391</td>\n",
       "      <td>354</td>\n",
       "      <td>4585</td>\n",
       "    </tr>\n",
       "    <tr>\n",
       "      <th>3</th>\n",
       "      <td>3.88</td>\n",
       "      <td>male</td>\n",
       "      <td>José Donoso\\n</td>\n",
       "      <td>Chile\\n</td>\n",
       "      <td>4.14</td>\n",
       "      <td>\\n      The Obscene Bird of Night\\n</td>\n",
       "      <td>Fiction</td>\n",
       "      <td>1844</td>\n",
       "      <td>173</td>\n",
       "      <td>438</td>\n",
       "      <td>1533</td>\n",
       "    </tr>\n",
       "  </tbody>\n",
       "</table>\n",
       "</div>"
      ],
      "text/plain": [
       "   author_average_rating author_gender            author_name  \\\n",
       "0                   4.01        female    Victoria Thompson\\n   \n",
       "1                   4.15          male        Stieg Larsson\\n   \n",
       "2                   4.00        female  Mimi Jean Pamfiloff\\n   \n",
       "3                   3.88          male          José Donoso\\n   \n",
       "\n",
       "             birthplace  book_average_rating  \\\n",
       "0   United States\\n                     4.02   \n",
       "1          Sweden\\n                     4.13   \n",
       "2     United States\\n                   3.99   \n",
       "3           Chile\\n                     4.14   \n",
       "\n",
       "                                  book_title  genre_1  num_ratings  \\\n",
       "0       \\n      Murder on St. Mark's Place\\n  Mystery         5260   \n",
       "1  \\n      The Girl with the Dragon Tattoo\\n  Fiction      2229163   \n",
       "2             \\n      Tailored for Trouble\\n  Romance         2151   \n",
       "3        \\n      The Obscene Bird of Night\\n  Fiction         1844   \n",
       "\n",
       "   num_reviews pages  score  \n",
       "0          375   277   3230  \n",
       "1        65227   465   3062  \n",
       "2          391   354   4585  \n",
       "3          173   438   1533  "
      ]
     },
     "execution_count": 136,
     "metadata": {},
     "output_type": "execute_result"
    }
   ],
   "source": [
    "df1=df[columns2use]\n",
    "df1.head(4)"
   ]
  },
  {
   "cell_type": "code",
   "execution_count": 137,
   "metadata": {},
   "outputs": [
    {
     "data": {
      "text/plain": [
       "author_average_rating    float64\n",
       "author_gender             object\n",
       "author_name               object\n",
       "birthplace                object\n",
       "book_average_rating      float64\n",
       "book_title                object\n",
       "genre_1                   object\n",
       "num_ratings                int64\n",
       "num_reviews                int64\n",
       "pages                     object\n",
       "score                      int64\n",
       "dtype: object"
      ]
     },
     "execution_count": 137,
     "metadata": {},
     "output_type": "execute_result"
    }
   ],
   "source": [
    "df1.dtypes"
   ]
  },
  {
   "cell_type": "markdown",
   "metadata": {},
   "source": [
    "Pages is haing a datatype object when it should have int as datatype."
   ]
  },
  {
   "cell_type": "markdown",
   "metadata": {},
   "source": [
    "### Problem 2\n",
    "Continuing with the data you obtained in problem 1, find the $\\textbf{median}$ of all the numerical variables you saw in problem 1. Write a paragraph commenting on the median of these variables. "
   ]
  },
  {
   "cell_type": "code",
   "execution_count": 68,
   "metadata": {},
   "outputs": [
    {
     "data": {
      "text/plain": [
       "author_average_rating       3.97\n",
       "book_average_rating         3.96\n",
       "num_ratings              4403.00\n",
       "num_reviews               384.00\n",
       "score                    1727.00\n",
       "dtype: float64"
      ]
     },
     "execution_count": 68,
     "metadata": {},
     "output_type": "execute_result"
    }
   ],
   "source": [
    "median=df1.median(numeric_only=True)\n",
    "median"
   ]
  },
  {
   "cell_type": "markdown",
   "metadata": {},
   "source": [
    "The median values show that the author rating of 3.97 correlates to a book rating of 3.96, i.e, if the author is good, then the book is highly rated. The number of median ratings is 4403 whereas the number of median reviews is a lot less, i.e., 384. The median score is 1727"
   ]
  },
  {
   "cell_type": "markdown",
   "metadata": {},
   "source": [
    "### Problem 3 \n",
    "Find the $\\textbf{mode}$ of all the numerical variables you saw in problem 1. Write a paragraph commenting on the mode of these variables. "
   ]
  },
  {
   "cell_type": "code",
   "execution_count": 69,
   "metadata": {},
   "outputs": [
    {
     "data": {
      "text/html": [
       "<div>\n",
       "<style scoped>\n",
       "    .dataframe tbody tr th:only-of-type {\n",
       "        vertical-align: middle;\n",
       "    }\n",
       "\n",
       "    .dataframe tbody tr th {\n",
       "        vertical-align: top;\n",
       "    }\n",
       "\n",
       "    .dataframe thead th {\n",
       "        text-align: right;\n",
       "    }\n",
       "</style>\n",
       "<table border=\"1\" class=\"dataframe\">\n",
       "  <thead>\n",
       "    <tr style=\"text-align: right;\">\n",
       "      <th></th>\n",
       "      <th>author_average_rating</th>\n",
       "      <th>book_average_rating</th>\n",
       "      <th>num_ratings</th>\n",
       "      <th>num_reviews</th>\n",
       "      <th>score</th>\n",
       "    </tr>\n",
       "  </thead>\n",
       "  <tbody>\n",
       "    <tr>\n",
       "      <th>0</th>\n",
       "      <td>3.94</td>\n",
       "      <td>3.96</td>\n",
       "      <td>44</td>\n",
       "      <td>17</td>\n",
       "      <td>200</td>\n",
       "    </tr>\n",
       "  </tbody>\n",
       "</table>\n",
       "</div>"
      ],
      "text/plain": [
       "   author_average_rating  book_average_rating  num_ratings  num_reviews  score\n",
       "0                   3.94                 3.96           44           17    200"
      ]
     },
     "execution_count": 69,
     "metadata": {},
     "output_type": "execute_result"
    }
   ],
   "source": [
    "mode=df1.mode(numeric_only=True)\n",
    "mode"
   ]
  },
  {
   "cell_type": "markdown",
   "metadata": {},
   "source": [
    "The mode values show that the author rating of 3.94 has the max. frequency throughout the column. The book rating of 3.96 has max. frequency in this dataframe.The max. frequency of ratings is 44, while the max. frequency of number of ratings and score is 17 and 200 resepctively."
   ]
  },
  {
   "cell_type": "markdown",
   "metadata": {},
   "source": [
    "### Problem 4\n",
    "A distribution (here it is one of the numerical columns) in which the values of mean, median, and mode coincide (i.e., mean = median = mode) is known as a normal distribution (a perfect data set).It has a bell shapped curve when plotted and is also symmetric about the mean. Conversely, when mean, median, and mode values are not equal, the distribution is known as asymmetrical or skewed distribution. In moderately skewed or asymmetrical distribution, a very important relationship exists among these three measures of central tendencies. In such distributions, the distance between the mean and median is about one-third of the mean and mode distance. Karl Pearson, a renowned statistician, expressed this relationship as:\n",
    "$Mode - 3 \\times \\,\\,median - 2\\times \\,\\, mean =0$. \n",
    "\n",
    "![](mcube.png) \n",
    "\n",
    "\n",
    "Find Mode - 3 Median + 2 Mean for all numerical columns. Symmetric data is hard to come by. If this number is close to 0 for a column, the column data is close to being symmetric, and if it is far from 0 ( positive or negative), the column data is asymmetric. Which column is closest to being symmetric, and which one is the most asymmetric?"
   ]
  },
  {
   "cell_type": "code",
   "execution_count": 70,
   "metadata": {},
   "outputs": [
    {
     "data": {
      "text/plain": [
       "author_average_rating        3.960368\n",
       "book_average_rating          3.951456\n",
       "num_ratings              46683.487790\n",
       "num_reviews               2324.754794\n",
       "score                     3893.028483\n",
       "dtype: float64"
      ]
     },
     "execution_count": 70,
     "metadata": {},
     "output_type": "execute_result"
    }
   ],
   "source": [
    "mean=df1.mean(numeric_only=True)\n",
    "mean"
   ]
  },
  {
   "cell_type": "code",
   "execution_count": 71,
   "metadata": {},
   "outputs": [
    {
     "data": {
      "text/html": [
       "<div>\n",
       "<style scoped>\n",
       "    .dataframe tbody tr th:only-of-type {\n",
       "        vertical-align: middle;\n",
       "    }\n",
       "\n",
       "    .dataframe tbody tr th {\n",
       "        vertical-align: top;\n",
       "    }\n",
       "\n",
       "    .dataframe thead th {\n",
       "        text-align: right;\n",
       "    }\n",
       "</style>\n",
       "<table border=\"1\" class=\"dataframe\">\n",
       "  <thead>\n",
       "    <tr style=\"text-align: right;\">\n",
       "      <th></th>\n",
       "      <th>author_average_rating</th>\n",
       "      <th>book_average_rating</th>\n",
       "      <th>num_ratings</th>\n",
       "      <th>num_reviews</th>\n",
       "      <th>score</th>\n",
       "    </tr>\n",
       "  </thead>\n",
       "  <tbody>\n",
       "    <tr>\n",
       "      <th>0</th>\n",
       "      <td>7.33381</td>\n",
       "      <td>7.43506</td>\n",
       "      <td>8.423615e+09</td>\n",
       "      <td>1.243279e+07</td>\n",
       "      <td>1.322948e+09</td>\n",
       "    </tr>\n",
       "  </tbody>\n",
       "</table>\n",
       "</div>"
      ],
      "text/plain": [
       "   author_average_rating  book_average_rating   num_ratings   num_reviews  \\\n",
       "0                7.33381              7.43506  8.423615e+09  1.243279e+07   \n",
       "\n",
       "          score  \n",
       "0  1.322948e+09  "
      ]
     },
     "execution_count": 71,
     "metadata": {},
     "output_type": "execute_result"
    }
   ],
   "source": [
    "formula=(mode-3)*(median-2)*(mean)\n",
    "\n",
    "formula"
   ]
  },
  {
   "cell_type": "code",
   "execution_count": 72,
   "metadata": {},
   "outputs": [
    {
     "data": {
      "text/html": [
       "<div>\n",
       "<style scoped>\n",
       "    .dataframe tbody tr th:only-of-type {\n",
       "        vertical-align: middle;\n",
       "    }\n",
       "\n",
       "    .dataframe tbody tr th {\n",
       "        vertical-align: top;\n",
       "    }\n",
       "\n",
       "    .dataframe thead th {\n",
       "        text-align: right;\n",
       "    }\n",
       "</style>\n",
       "<table border=\"1\" class=\"dataframe\">\n",
       "  <thead>\n",
       "    <tr style=\"text-align: right;\">\n",
       "      <th></th>\n",
       "      <th>author_average_rating</th>\n",
       "      <th>book_average_rating</th>\n",
       "      <th>num_ratings</th>\n",
       "      <th>num_reviews</th>\n",
       "      <th>score</th>\n",
       "    </tr>\n",
       "  </thead>\n",
       "  <tbody>\n",
       "    <tr>\n",
       "      <th>0</th>\n",
       "      <td>7.33381</td>\n",
       "      <td>7.43506</td>\n",
       "      <td>8423615220</td>\n",
       "      <td>12432788</td>\n",
       "      <td>1322948404</td>\n",
       "    </tr>\n",
       "  </tbody>\n",
       "</table>\n",
       "</div>"
      ],
      "text/plain": [
       "   author_average_rating  book_average_rating  num_ratings  num_reviews  \\\n",
       "0                7.33381              7.43506   8423615220     12432788   \n",
       "\n",
       "        score  \n",
       "0  1322948404  "
      ]
     },
     "execution_count": 72,
     "metadata": {},
     "output_type": "execute_result"
    }
   ],
   "source": [
    "formula['score'] = formula['score'].astype('int64')\n",
    "formula['num_ratings'] = formula['num_ratings'].astype('int64')\n",
    "formula['num_reviews'] = formula['num_reviews'].astype('int64')\n",
    "formula"
   ]
  },
  {
   "cell_type": "markdown",
   "metadata": {},
   "source": [
    "author_average_rating is the most symmetrical variable in this dataframe, while score is the most assymetric"
   ]
  },
  {
   "cell_type": "markdown",
   "metadata": {},
   "source": [
    "### Problem 5\n",
    "We can use sample function from pandas to randomly select only few  rows from our data frame. Sampling is very useful when the data is too big and not all of it can be handled in a computer.\n",
    "More about sample function is explained here.\n",
    "https://pandas.pydata.org/pandas-docs/stable/reference/api/pandas.DataFrame.sample.html\n"
   ]
  },
  {
   "cell_type": "markdown",
   "metadata": {},
   "source": [
    "Using the sample function, sample 1000 data points from the data you created in problem 1 and give it a new name. Now find the means  of this new sampled data and compare with the means of the data you sampled from. Which variable's mean  from this sampled data setis close to the mean of the original data? What does it imply when these two means are very close? "
   ]
  },
  {
   "cell_type": "code",
   "execution_count": 73,
   "metadata": {},
   "outputs": [
    {
     "data": {
      "text/html": [
       "<div>\n",
       "<style scoped>\n",
       "    .dataframe tbody tr th:only-of-type {\n",
       "        vertical-align: middle;\n",
       "    }\n",
       "\n",
       "    .dataframe tbody tr th {\n",
       "        vertical-align: top;\n",
       "    }\n",
       "\n",
       "    .dataframe thead th {\n",
       "        text-align: right;\n",
       "    }\n",
       "</style>\n",
       "<table border=\"1\" class=\"dataframe\">\n",
       "  <thead>\n",
       "    <tr style=\"text-align: right;\">\n",
       "      <th></th>\n",
       "      <th>index</th>\n",
       "      <th>author_average_rating</th>\n",
       "      <th>author_gender</th>\n",
       "      <th>author_name</th>\n",
       "      <th>birthplace</th>\n",
       "      <th>book_average_rating</th>\n",
       "      <th>book_title</th>\n",
       "      <th>genre_1</th>\n",
       "      <th>num_ratings</th>\n",
       "      <th>num_reviews</th>\n",
       "      <th>pages</th>\n",
       "      <th>score</th>\n",
       "    </tr>\n",
       "  </thead>\n",
       "  <tbody>\n",
       "    <tr>\n",
       "      <th>0</th>\n",
       "      <td>6049</td>\n",
       "      <td>4.04</td>\n",
       "      <td>female</td>\n",
       "      <td>Alyssa Rae Taylor\\n</td>\n",
       "      <td>\\n   United States\\n</td>\n",
       "      <td>4.01</td>\n",
       "      <td>\\n      Raising Ryann\\n</td>\n",
       "      <td>Romance</td>\n",
       "      <td>9695</td>\n",
       "      <td>600</td>\n",
       "      <td>277</td>\n",
       "      <td>6413</td>\n",
       "    </tr>\n",
       "    <tr>\n",
       "      <th>1</th>\n",
       "      <td>402</td>\n",
       "      <td>4.26</td>\n",
       "      <td>female</td>\n",
       "      <td>Patricia Briggs\\n</td>\n",
       "      <td>United States\\n</td>\n",
       "      <td>4.18</td>\n",
       "      <td>\\n      Moon Called\\n</td>\n",
       "      <td>Fantasy</td>\n",
       "      <td>151855</td>\n",
       "      <td>7321</td>\n",
       "      <td>288</td>\n",
       "      <td>17039</td>\n",
       "    </tr>\n",
       "    <tr>\n",
       "      <th>2</th>\n",
       "      <td>17731</td>\n",
       "      <td>3.85</td>\n",
       "      <td>male</td>\n",
       "      <td>Andrew C. Walton\\n</td>\n",
       "      <td>\\n</td>\n",
       "      <td>3.81</td>\n",
       "      <td>\\n      The Spiritual Secrets Of Happiness Hea...</td>\n",
       "      <td>Spirituality</td>\n",
       "      <td>220</td>\n",
       "      <td>6</td>\n",
       "      <td>196</td>\n",
       "      <td>505</td>\n",
       "    </tr>\n",
       "    <tr>\n",
       "      <th>3</th>\n",
       "      <td>16013</td>\n",
       "      <td>4.29</td>\n",
       "      <td>male</td>\n",
       "      <td>Douglas Southall Freeman\\n</td>\n",
       "      <td>United States\\n</td>\n",
       "      <td>4.42</td>\n",
       "      <td>\\n      Lee's Lieutenants: A Study In Command\\n</td>\n",
       "      <td>History</td>\n",
       "      <td>358</td>\n",
       "      <td>9</td>\n",
       "      <td>832</td>\n",
       "      <td>606</td>\n",
       "    </tr>\n",
       "  </tbody>\n",
       "</table>\n",
       "</div>"
      ],
      "text/plain": [
       "   index  author_average_rating author_gender                 author_name  \\\n",
       "0   6049                   4.04        female         Alyssa Rae Taylor\\n   \n",
       "1    402                   4.26        female           Patricia Briggs\\n   \n",
       "2  17731                   3.85          male          Andrew C. Walton\\n   \n",
       "3  16013                   4.29          male  Douglas Southall Freeman\\n   \n",
       "\n",
       "                 birthplace  book_average_rating  \\\n",
       "0  \\n   United States\\n                     4.01   \n",
       "1         United States\\n                   4.18   \n",
       "2                      \\n                   3.81   \n",
       "3       United States\\n                     4.42   \n",
       "\n",
       "                                          book_title       genre_1  \\\n",
       "0                            \\n      Raising Ryann\\n       Romance   \n",
       "1                              \\n      Moon Called\\n       Fantasy   \n",
       "2  \\n      The Spiritual Secrets Of Happiness Hea...  Spirituality   \n",
       "3    \\n      Lee's Lieutenants: A Study In Command\\n       History   \n",
       "\n",
       "   num_ratings  num_reviews pages  score  \n",
       "0         9695          600   277   6413  \n",
       "1       151855         7321   288  17039  \n",
       "2          220            6   196    505  \n",
       "3          358            9   832    606  "
      ]
     },
     "execution_count": 73,
     "metadata": {},
     "output_type": "execute_result"
    }
   ],
   "source": [
    "sampledf=df1.sample(n=1000).reset_index()\n",
    "sampledf.head(4)"
   ]
  },
  {
   "cell_type": "code",
   "execution_count": 74,
   "metadata": {},
   "outputs": [
    {
     "data": {
      "text/plain": [
       "index                    11420.52400\n",
       "author_average_rating        3.96518\n",
       "book_average_rating          3.95597\n",
       "num_ratings              46022.59100\n",
       "num_reviews               2523.04900\n",
       "score                     3915.02900\n",
       "dtype: float64"
      ]
     },
     "execution_count": 74,
     "metadata": {},
     "output_type": "execute_result"
    }
   ],
   "source": [
    "sampledf.mean(numeric_only=True)"
   ]
  },
  {
   "cell_type": "code",
   "execution_count": 75,
   "metadata": {},
   "outputs": [
    {
     "data": {
      "text/plain": [
       "author_average_rating        3.960368\n",
       "book_average_rating          3.951456\n",
       "num_ratings              46683.487790\n",
       "num_reviews               2324.754794\n",
       "score                     3893.028483\n",
       "dtype: float64"
      ]
     },
     "execution_count": 75,
     "metadata": {},
     "output_type": "execute_result"
    }
   ],
   "source": [
    "mean"
   ]
  },
  {
   "cell_type": "markdown",
   "metadata": {},
   "source": [
    "The book_average_rating and author_average_rating have almost identical mean values. This shows that the randomly sampled data has approximately the same values from the main dataframe. This reinforces our previous idea that these variables are almost symmetric and most symmetric within this dataframe."
   ]
  },
  {
   "cell_type": "markdown",
   "metadata": {},
   "source": [
    "### Problem 6\n",
    "Make a frequency table of the variable \"genre_1\". Your answer should look like a data frame with indices ( with no column name), and two other column names \"genre_1\" and \"frequency\". The following Panda functions will be useful: groubby, value_counts, reset_index() and to_frame(). https://stackoverflow.com/questions/39778686/pandas-reset-index-after-groupby-value-counts and https://pandas.pydata.org/pandas-docs/stable/reference/api/pandas.DataFrame.reset_index.html"
   ]
  },
  {
   "cell_type": "code",
   "execution_count": 110,
   "metadata": {},
   "outputs": [
    {
     "data": {
      "text/html": [
       "<div>\n",
       "<style scoped>\n",
       "    .dataframe tbody tr th:only-of-type {\n",
       "        vertical-align: middle;\n",
       "    }\n",
       "\n",
       "    .dataframe tbody tr th {\n",
       "        vertical-align: top;\n",
       "    }\n",
       "\n",
       "    .dataframe thead th {\n",
       "        text-align: right;\n",
       "    }\n",
       "</style>\n",
       "<table border=\"1\" class=\"dataframe\">\n",
       "  <thead>\n",
       "    <tr style=\"text-align: right;\">\n",
       "      <th></th>\n",
       "      <th>genre_1</th>\n",
       "      <th>counts</th>\n",
       "    </tr>\n",
       "  </thead>\n",
       "  <tbody>\n",
       "    <tr>\n",
       "      <th>0</th>\n",
       "      <td>Fantasy</td>\n",
       "      <td>3397</td>\n",
       "    </tr>\n",
       "    <tr>\n",
       "      <th>1</th>\n",
       "      <td>Romance</td>\n",
       "      <td>3397</td>\n",
       "    </tr>\n",
       "    <tr>\n",
       "      <th>2</th>\n",
       "      <td>Young Adult</td>\n",
       "      <td>2497</td>\n",
       "    </tr>\n",
       "    <tr>\n",
       "      <th>3</th>\n",
       "      <td>Fiction</td>\n",
       "      <td>2172</td>\n",
       "    </tr>\n",
       "    <tr>\n",
       "      <th>4</th>\n",
       "      <td>Historical</td>\n",
       "      <td>1399</td>\n",
       "    </tr>\n",
       "    <tr>\n",
       "      <th>...</th>\n",
       "      <td>...</td>\n",
       "      <td>...</td>\n",
       "    </tr>\n",
       "    <tr>\n",
       "      <th>119</th>\n",
       "      <td>Medical</td>\n",
       "      <td>1</td>\n",
       "    </tr>\n",
       "    <tr>\n",
       "      <th>120</th>\n",
       "      <td>Death</td>\n",
       "      <td>1</td>\n",
       "    </tr>\n",
       "    <tr>\n",
       "      <th>121</th>\n",
       "      <td>Dark Fantasy</td>\n",
       "      <td>1</td>\n",
       "    </tr>\n",
       "    <tr>\n",
       "      <th>122</th>\n",
       "      <td>Teaching</td>\n",
       "      <td>1</td>\n",
       "    </tr>\n",
       "    <tr>\n",
       "      <th>123</th>\n",
       "      <td>Dc Comics</td>\n",
       "      <td>1</td>\n",
       "    </tr>\n",
       "  </tbody>\n",
       "</table>\n",
       "<p>124 rows × 2 columns</p>\n",
       "</div>"
      ],
      "text/plain": [
       "          genre_1  counts\n",
       "0         Fantasy    3397\n",
       "1         Romance    3397\n",
       "2     Young Adult    2497\n",
       "3         Fiction    2172\n",
       "4      Historical    1399\n",
       "..            ...     ...\n",
       "119       Medical       1\n",
       "120         Death       1\n",
       "121  Dark Fantasy       1\n",
       "122      Teaching       1\n",
       "123     Dc Comics       1\n",
       "\n",
       "[124 rows x 2 columns]"
      ]
     },
     "execution_count": 110,
     "metadata": {},
     "output_type": "execute_result"
    }
   ],
   "source": [
    "freq_table=df1['genre_1'].value_counts().to_frame().reset_index()\n",
    "freq_table.columns = ['genre_1','counts']\n",
    "freq_table"
   ]
  },
  {
   "cell_type": "markdown",
   "metadata": {},
   "source": [
    "### Problem 7. \n",
    "Using the column  \"score\", to create a new column called new_score that will have a score out of 5. For this, apply the formula  $\\text{new_score} = \\dfrac{\\text{score}}{\\text{max(score)}}\\times 5$. Print the description of this new colum using describe function."
   ]
  },
  {
   "cell_type": "code",
   "execution_count": 115,
   "metadata": {},
   "outputs": [
    {
     "name": "stderr",
     "output_type": "stream",
     "text": [
      "<ipython-input-115-9e99b9e232d4>:1: SettingWithCopyWarning: \n",
      "A value is trying to be set on a copy of a slice from a DataFrame.\n",
      "Try using .loc[row_indexer,col_indexer] = value instead\n",
      "\n",
      "See the caveats in the documentation: https://pandas.pydata.org/pandas-docs/stable/user_guide/indexing.html#returning-a-view-versus-a-copy\n",
      "  df1[\"new_score\"]=df1.score/max(df1.score)*5\n"
     ]
    }
   ],
   "source": [
    "df1[\"new_score\"]=df1.score/max(df1.score)*5"
   ]
  },
  {
   "cell_type": "code",
   "execution_count": 112,
   "metadata": {},
   "outputs": [
    {
     "data": {
      "text/plain": [
       "count    22891.000000\n",
       "mean         0.032536\n",
       "std          0.092116\n",
       "min          0.000460\n",
       "25%          0.006953\n",
       "50%          0.014433\n",
       "75%          0.030066\n",
       "max          5.000000\n",
       "Name: new_score, dtype: float64"
      ]
     },
     "execution_count": 112,
     "metadata": {},
     "output_type": "execute_result"
    }
   ],
   "source": [
    "df1.new_score.describe()"
   ]
  },
  {
   "cell_type": "markdown",
   "metadata": {},
   "source": [
    "### Problem 8.\n",
    "We have now 3 columns that represent ratings out of 5, namely author_average_rating, book_average_rating, and a new_score we just created in problem 7. Let's create a column called super_score which takes into consideration of all the 3 columns with rating scores out of 5. Give 24%, 34% and 42% weights for the columns author_average_rating, book_average_rating, and a new_score respectively to create the values for super_score column that is also out of 5. Now use the describe function to show the details of this new column."
   ]
  },
  {
   "cell_type": "code",
   "execution_count": 116,
   "metadata": {},
   "outputs": [
    {
     "name": "stderr",
     "output_type": "stream",
     "text": [
      "<ipython-input-116-19896c8e67db>:1: SettingWithCopyWarning: \n",
      "A value is trying to be set on a copy of a slice from a DataFrame.\n",
      "Try using .loc[row_indexer,col_indexer] = value instead\n",
      "\n",
      "See the caveats in the documentation: https://pandas.pydata.org/pandas-docs/stable/user_guide/indexing.html#returning-a-view-versus-a-copy\n",
      "  df1['super_score']=(0.24*df1.author_average_rating)+(0.34*df1.book_average_rating)+(0.42*df1.new_score)\n"
     ]
    }
   ],
   "source": [
    "df1['super_score']=(0.24*df1.author_average_rating)+(0.34*df1.book_average_rating)+(0.42*df1.new_score)"
   ]
  },
  {
   "cell_type": "code",
   "execution_count": 117,
   "metadata": {},
   "outputs": [
    {
     "data": {
      "text/plain": [
       "count    22891.000000\n",
       "mean         2.307648\n",
       "std          0.156127\n",
       "min          0.871881\n",
       "25%          2.211681\n",
       "50%          2.310253\n",
       "75%          2.406540\n",
       "max          4.625000\n",
       "Name: super_score, dtype: float64"
      ]
     },
     "execution_count": 117,
     "metadata": {},
     "output_type": "execute_result"
    }
   ],
   "source": [
    "df1.super_score.describe()"
   ]
  },
  {
   "cell_type": "markdown",
   "metadata": {},
   "source": [
    "### Problem 9\n",
    "Use super_score column to find out how many unique authors have a super_score of 3.9 or more. Let's call these authors, super_authors. Create a dataframe called super_authors that has the following columns: ['author_name','author_gender','birthplace','book_title'] and show the head of the data."
   ]
  },
  {
   "cell_type": "code",
   "execution_count": 122,
   "metadata": {},
   "outputs": [
    {
     "name": "stderr",
     "output_type": "stream",
     "text": [
      "<ipython-input-122-7d1c4f4019d6>:1: SettingWithCopyWarning: \n",
      "A value is trying to be set on a copy of a slice from a DataFrame.\n",
      "Try using .loc[row_indexer,col_indexer] = value instead\n",
      "\n",
      "See the caveats in the documentation: https://pandas.pydata.org/pandas-docs/stable/user_guide/indexing.html#returning-a-view-versus-a-copy\n",
      "  df1[\"super_authors\"]=df1.super_score>=3.9\n"
     ]
    }
   ],
   "source": [
    "df1[\"super_authors\"]=df1.super_score>=3.9"
   ]
  },
  {
   "cell_type": "code",
   "execution_count": 124,
   "metadata": {},
   "outputs": [
    {
     "data": {
      "text/plain": [
       "False    22888\n",
       "True         3\n",
       "Name: super_authors, dtype: int64"
      ]
     },
     "execution_count": 124,
     "metadata": {},
     "output_type": "execute_result"
    }
   ],
   "source": [
    "df1.super_authors.value_counts()"
   ]
  },
  {
   "cell_type": "code",
   "execution_count": 125,
   "metadata": {},
   "outputs": [],
   "source": [
    "super_authors = df1[['author_name','author_gender','birthplace','book_title']].copy()"
   ]
  },
  {
   "cell_type": "code",
   "execution_count": 126,
   "metadata": {},
   "outputs": [
    {
     "data": {
      "text/html": [
       "<div>\n",
       "<style scoped>\n",
       "    .dataframe tbody tr th:only-of-type {\n",
       "        vertical-align: middle;\n",
       "    }\n",
       "\n",
       "    .dataframe tbody tr th {\n",
       "        vertical-align: top;\n",
       "    }\n",
       "\n",
       "    .dataframe thead th {\n",
       "        text-align: right;\n",
       "    }\n",
       "</style>\n",
       "<table border=\"1\" class=\"dataframe\">\n",
       "  <thead>\n",
       "    <tr style=\"text-align: right;\">\n",
       "      <th></th>\n",
       "      <th>author_name</th>\n",
       "      <th>author_gender</th>\n",
       "      <th>birthplace</th>\n",
       "      <th>book_title</th>\n",
       "    </tr>\n",
       "  </thead>\n",
       "  <tbody>\n",
       "    <tr>\n",
       "      <th>0</th>\n",
       "      <td>Victoria Thompson\\n</td>\n",
       "      <td>female</td>\n",
       "      <td>United States\\n</td>\n",
       "      <td>\\n      Murder on St. Mark's Place\\n</td>\n",
       "    </tr>\n",
       "    <tr>\n",
       "      <th>1</th>\n",
       "      <td>Stieg Larsson\\n</td>\n",
       "      <td>male</td>\n",
       "      <td>Sweden\\n</td>\n",
       "      <td>\\n      The Girl with the Dragon Tattoo\\n</td>\n",
       "    </tr>\n",
       "    <tr>\n",
       "      <th>2</th>\n",
       "      <td>Mimi Jean Pamfiloff\\n</td>\n",
       "      <td>female</td>\n",
       "      <td>United States\\n</td>\n",
       "      <td>\\n      Tailored for Trouble\\n</td>\n",
       "    </tr>\n",
       "    <tr>\n",
       "      <th>3</th>\n",
       "      <td>José Donoso\\n</td>\n",
       "      <td>male</td>\n",
       "      <td>Chile\\n</td>\n",
       "      <td>\\n      The Obscene Bird of Night\\n</td>\n",
       "    </tr>\n",
       "    <tr>\n",
       "      <th>4</th>\n",
       "      <td>Patricia C. Wrede\\n</td>\n",
       "      <td>female</td>\n",
       "      <td>United States\\n</td>\n",
       "      <td>\\n      Sorcery &amp; Cecelia: or The Enchanted Ch...</td>\n",
       "    </tr>\n",
       "    <tr>\n",
       "      <th>...</th>\n",
       "      <td>...</td>\n",
       "      <td>...</td>\n",
       "      <td>...</td>\n",
       "      <td>...</td>\n",
       "    </tr>\n",
       "    <tr>\n",
       "      <th>22886</th>\n",
       "      <td>Dakota Cassidy\\n</td>\n",
       "      <td>female</td>\n",
       "      <td>\\n</td>\n",
       "      <td>\\n      Gotta Have Faith\\n</td>\n",
       "    </tr>\n",
       "    <tr>\n",
       "      <th>22887</th>\n",
       "      <td>Joanne Jaytanie\\n</td>\n",
       "      <td>male</td>\n",
       "      <td>United States\\n</td>\n",
       "      <td>\\n      Payton's Pursuit\\n</td>\n",
       "    </tr>\n",
       "    <tr>\n",
       "      <th>22888</th>\n",
       "      <td>Krystal Shannan\\n</td>\n",
       "      <td>female</td>\n",
       "      <td>United States\\n</td>\n",
       "      <td>\\n      My Viking Vampire\\n</td>\n",
       "    </tr>\n",
       "    <tr>\n",
       "      <th>22889</th>\n",
       "      <td>Bryce Evans\\n</td>\n",
       "      <td>female</td>\n",
       "      <td>\\n</td>\n",
       "      <td>\\n      The Trinity\\n</td>\n",
       "    </tr>\n",
       "    <tr>\n",
       "      <th>22890</th>\n",
       "      <td>Candice Stauffer\\n</td>\n",
       "      <td>male</td>\n",
       "      <td>\\n   United States\\n</td>\n",
       "      <td>\\n      Volatile Breath of Darkness\\n</td>\n",
       "    </tr>\n",
       "  </tbody>\n",
       "</table>\n",
       "<p>22891 rows × 4 columns</p>\n",
       "</div>"
      ],
      "text/plain": [
       "                 author_name author_gender              birthplace  \\\n",
       "0        Victoria Thompson\\n        female     United States\\n       \n",
       "1            Stieg Larsson\\n          male            Sweden\\n       \n",
       "2      Mimi Jean Pamfiloff\\n        female       United States\\n     \n",
       "3              José Donoso\\n          male             Chile\\n       \n",
       "4        Patricia C. Wrede\\n        female     United States\\n       \n",
       "...                      ...           ...                     ...   \n",
       "22886       Dakota Cassidy\\n        female                    \\n     \n",
       "22887      Joanne Jaytanie\\n          male     United States\\n       \n",
       "22888      Krystal Shannan\\n        female       United States\\n     \n",
       "22889          Bryce Evans\\n        female                    \\n     \n",
       "22890     Candice Stauffer\\n          male  \\n   United States\\n     \n",
       "\n",
       "                                              book_title  \n",
       "0                   \\n      Murder on St. Mark's Place\\n  \n",
       "1              \\n      The Girl with the Dragon Tattoo\\n  \n",
       "2                         \\n      Tailored for Trouble\\n  \n",
       "3                    \\n      The Obscene Bird of Night\\n  \n",
       "4      \\n      Sorcery & Cecelia: or The Enchanted Ch...  \n",
       "...                                                  ...  \n",
       "22886                         \\n      Gotta Have Faith\\n  \n",
       "22887                         \\n      Payton's Pursuit\\n  \n",
       "22888                        \\n      My Viking Vampire\\n  \n",
       "22889                              \\n      The Trinity\\n  \n",
       "22890              \\n      Volatile Breath of Darkness\\n  \n",
       "\n",
       "[22891 rows x 4 columns]"
      ]
     },
     "execution_count": 126,
     "metadata": {},
     "output_type": "execute_result"
    }
   ],
   "source": [
    "super_authors"
   ]
  },
  {
   "cell_type": "markdown",
   "metadata": {},
   "source": [
    "Therefore, 3 authors have a super score above 3.9"
   ]
  },
  {
   "cell_type": "markdown",
   "metadata": {},
   "source": [
    "### Problem 10\n",
    "Save the dataframe super_authors you created in problem 9 to your working folder (where you have this HW saved) as a csv file and read it back to Jupyter Notebook and print the head of the data."
   ]
  },
  {
   "cell_type": "code",
   "execution_count": 129,
   "metadata": {},
   "outputs": [],
   "source": [
    "super_authors.to_csv('super_authors.csv')"
   ]
  },
  {
   "cell_type": "code",
   "execution_count": 130,
   "metadata": {},
   "outputs": [
    {
     "data": {
      "text/html": [
       "<div>\n",
       "<style scoped>\n",
       "    .dataframe tbody tr th:only-of-type {\n",
       "        vertical-align: middle;\n",
       "    }\n",
       "\n",
       "    .dataframe tbody tr th {\n",
       "        vertical-align: top;\n",
       "    }\n",
       "\n",
       "    .dataframe thead th {\n",
       "        text-align: right;\n",
       "    }\n",
       "</style>\n",
       "<table border=\"1\" class=\"dataframe\">\n",
       "  <thead>\n",
       "    <tr style=\"text-align: right;\">\n",
       "      <th></th>\n",
       "      <th>Unnamed: 0</th>\n",
       "      <th>author_name</th>\n",
       "      <th>author_gender</th>\n",
       "      <th>birthplace</th>\n",
       "      <th>book_title</th>\n",
       "    </tr>\n",
       "  </thead>\n",
       "  <tbody>\n",
       "    <tr>\n",
       "      <th>0</th>\n",
       "      <td>0</td>\n",
       "      <td>Victoria Thompson\\n</td>\n",
       "      <td>female</td>\n",
       "      <td>United States\\n</td>\n",
       "      <td>\\n      Murder on St. Mark's Place\\n</td>\n",
       "    </tr>\n",
       "    <tr>\n",
       "      <th>1</th>\n",
       "      <td>1</td>\n",
       "      <td>Stieg Larsson\\n</td>\n",
       "      <td>male</td>\n",
       "      <td>Sweden\\n</td>\n",
       "      <td>\\n      The Girl with the Dragon Tattoo\\n</td>\n",
       "    </tr>\n",
       "    <tr>\n",
       "      <th>2</th>\n",
       "      <td>2</td>\n",
       "      <td>Mimi Jean Pamfiloff\\n</td>\n",
       "      <td>female</td>\n",
       "      <td>United States\\n</td>\n",
       "      <td>\\n      Tailored for Trouble\\n</td>\n",
       "    </tr>\n",
       "    <tr>\n",
       "      <th>3</th>\n",
       "      <td>3</td>\n",
       "      <td>José Donoso\\n</td>\n",
       "      <td>male</td>\n",
       "      <td>Chile\\n</td>\n",
       "      <td>\\n      The Obscene Bird of Night\\n</td>\n",
       "    </tr>\n",
       "    <tr>\n",
       "      <th>4</th>\n",
       "      <td>4</td>\n",
       "      <td>Patricia C. Wrede\\n</td>\n",
       "      <td>female</td>\n",
       "      <td>United States\\n</td>\n",
       "      <td>\\n      Sorcery &amp; Cecelia: or The Enchanted Ch...</td>\n",
       "    </tr>\n",
       "  </tbody>\n",
       "</table>\n",
       "</div>"
      ],
      "text/plain": [
       "   Unnamed: 0            author_name author_gender            birthplace  \\\n",
       "0           0    Victoria Thompson\\n        female   United States\\n       \n",
       "1           1        Stieg Larsson\\n          male          Sweden\\n       \n",
       "2           2  Mimi Jean Pamfiloff\\n        female     United States\\n     \n",
       "3           3          José Donoso\\n          male           Chile\\n       \n",
       "4           4    Patricia C. Wrede\\n        female   United States\\n       \n",
       "\n",
       "                                          book_title  \n",
       "0               \\n      Murder on St. Mark's Place\\n  \n",
       "1          \\n      The Girl with the Dragon Tattoo\\n  \n",
       "2                     \\n      Tailored for Trouble\\n  \n",
       "3                \\n      The Obscene Bird of Night\\n  \n",
       "4  \\n      Sorcery & Cecelia: or The Enchanted Ch...  "
      ]
     },
     "execution_count": 130,
     "metadata": {},
     "output_type": "execute_result"
    }
   ],
   "source": [
    "df2=pd.read_csv('super_authors.csv')\n",
    "df2.head()"
   ]
  },
  {
   "cell_type": "markdown",
   "metadata": {},
   "source": [
    "## The following 2 problems are extra credit problems and are optional. You won't get any help on these problems."
   ]
  },
  {
   "cell_type": "markdown",
   "metadata": {},
   "source": [
    "### Bonus Problem 1 (Bonus 10 points)\n",
    "In super_author data set, there are a few columns that have entries with $\\text{\\n}$ notation. Find these columns and remove $\\text{\\n}$ from all the column entries using regular expressions.  Read more about handling strings and regular expressions here. https://pandas.pydata.org/pandas-docs/stable/user_guide/text.html, https://www.geeksforgeeks.org/replace-values-in-pandas-dataframe-using-regex/\n",
    ", and here https://docs.python.org/2/library/re.html."
   ]
  },
  {
   "cell_type": "code",
   "execution_count": 141,
   "metadata": {},
   "outputs": [
    {
     "data": {
      "text/html": [
       "<div>\n",
       "<style scoped>\n",
       "    .dataframe tbody tr th:only-of-type {\n",
       "        vertical-align: middle;\n",
       "    }\n",
       "\n",
       "    .dataframe tbody tr th {\n",
       "        vertical-align: top;\n",
       "    }\n",
       "\n",
       "    .dataframe thead th {\n",
       "        text-align: right;\n",
       "    }\n",
       "</style>\n",
       "<table border=\"1\" class=\"dataframe\">\n",
       "  <thead>\n",
       "    <tr style=\"text-align: right;\">\n",
       "      <th></th>\n",
       "      <th>author_name</th>\n",
       "      <th>author_gender</th>\n",
       "      <th>birthplace</th>\n",
       "      <th>book_title</th>\n",
       "    </tr>\n",
       "  </thead>\n",
       "  <tbody>\n",
       "    <tr>\n",
       "      <th>0</th>\n",
       "      <td>Victoria Thompson</td>\n",
       "      <td>female</td>\n",
       "      <td>United States</td>\n",
       "      <td>Murder on St. Mark's Place</td>\n",
       "    </tr>\n",
       "    <tr>\n",
       "      <th>1</th>\n",
       "      <td>Stieg Larsson</td>\n",
       "      <td>male</td>\n",
       "      <td>Sweden</td>\n",
       "      <td>The Girl with the Dragon Tattoo</td>\n",
       "    </tr>\n",
       "    <tr>\n",
       "      <th>2</th>\n",
       "      <td>Mimi Jean Pamfiloff</td>\n",
       "      <td>female</td>\n",
       "      <td>United States</td>\n",
       "      <td>Tailored for Trouble</td>\n",
       "    </tr>\n",
       "    <tr>\n",
       "      <th>3</th>\n",
       "      <td>José Donoso</td>\n",
       "      <td>male</td>\n",
       "      <td>Chile</td>\n",
       "      <td>The Obscene Bird of Night</td>\n",
       "    </tr>\n",
       "    <tr>\n",
       "      <th>4</th>\n",
       "      <td>Patricia C. Wrede</td>\n",
       "      <td>female</td>\n",
       "      <td>United States</td>\n",
       "      <td>Sorcery &amp; Cecelia: or The Enchanted Cho...</td>\n",
       "    </tr>\n",
       "    <tr>\n",
       "      <th>...</th>\n",
       "      <td>...</td>\n",
       "      <td>...</td>\n",
       "      <td>...</td>\n",
       "      <td>...</td>\n",
       "    </tr>\n",
       "    <tr>\n",
       "      <th>22886</th>\n",
       "      <td>Dakota Cassidy</td>\n",
       "      <td>female</td>\n",
       "      <td></td>\n",
       "      <td>Gotta Have Faith</td>\n",
       "    </tr>\n",
       "    <tr>\n",
       "      <th>22887</th>\n",
       "      <td>Joanne Jaytanie</td>\n",
       "      <td>male</td>\n",
       "      <td>United States</td>\n",
       "      <td>Payton's Pursuit</td>\n",
       "    </tr>\n",
       "    <tr>\n",
       "      <th>22888</th>\n",
       "      <td>Krystal Shannan</td>\n",
       "      <td>female</td>\n",
       "      <td>United States</td>\n",
       "      <td>My Viking Vampire</td>\n",
       "    </tr>\n",
       "    <tr>\n",
       "      <th>22889</th>\n",
       "      <td>Bryce Evans</td>\n",
       "      <td>female</td>\n",
       "      <td></td>\n",
       "      <td>The Trinity</td>\n",
       "    </tr>\n",
       "    <tr>\n",
       "      <th>22890</th>\n",
       "      <td>Candice Stauffer</td>\n",
       "      <td>male</td>\n",
       "      <td>United States</td>\n",
       "      <td>Volatile Breath of Darkness</td>\n",
       "    </tr>\n",
       "  </tbody>\n",
       "</table>\n",
       "<p>22891 rows × 4 columns</p>\n",
       "</div>"
      ],
      "text/plain": [
       "                author_name author_gender            birthplace  \\\n",
       "0        Victoria Thompson         female    United States        \n",
       "1            Stieg Larsson           male           Sweden        \n",
       "2      Mimi Jean Pamfiloff         female      United States      \n",
       "3              José Donoso           male            Chile        \n",
       "4        Patricia C. Wrede         female    United States        \n",
       "...                     ...           ...                   ...   \n",
       "22886       Dakota Cassidy         female                         \n",
       "22887      Joanne Jaytanie           male    United States        \n",
       "22888      Krystal Shannan         female      United States      \n",
       "22889          Bryce Evans         female                         \n",
       "22890     Candice Stauffer           male      United States      \n",
       "\n",
       "                                              book_title  \n",
       "0                            Murder on St. Mark's Place   \n",
       "1                       The Girl with the Dragon Tattoo   \n",
       "2                                  Tailored for Trouble   \n",
       "3                             The Obscene Bird of Night   \n",
       "4             Sorcery & Cecelia: or The Enchanted Cho...  \n",
       "...                                                  ...  \n",
       "22886                                  Gotta Have Faith   \n",
       "22887                                  Payton's Pursuit   \n",
       "22888                                 My Viking Vampire   \n",
       "22889                                       The Trinity   \n",
       "22890                       Volatile Breath of Darkness   \n",
       "\n",
       "[22891 rows x 4 columns]"
      ]
     },
     "execution_count": 141,
     "metadata": {},
     "output_type": "execute_result"
    }
   ],
   "source": [
    "super_authors = super_authors.replace(r'\\n',' ', regex=True)\n",
    "super_authors"
   ]
  },
  {
   "cell_type": "markdown",
   "metadata": {},
   "source": [
    "### Bonus Problem 2 (Bonus 10 points)\n",
    "You may have noticed that the column named  \"pages\" from the data set in problem 1 seem to have numerical looking values but it is not showing up in our data summary. This is because this columns appears to be a string in our data set. Data values in this columns are just  the total number of pages in each book and these should be numbers not strings. Change this column from string to numeric and find mean, median and mode for this column. If the error comes in the process of converting to numerical, find out what the error is and fix it."
   ]
  },
  {
   "cell_type": "code",
   "execution_count": 144,
   "metadata": {},
   "outputs": [
    {
     "ename": "ValueError",
     "evalue": "Unable to parse string \"1 page\" at position 8191",
     "output_type": "error",
     "traceback": [
      "\u001b[1;31m---------------------------------------------------------------------------\u001b[0m",
      "\u001b[1;31mValueError\u001b[0m                                Traceback (most recent call last)",
      "\u001b[1;32mpandas\\_libs\\lib.pyx\u001b[0m in \u001b[0;36mpandas._libs.lib.maybe_convert_numeric\u001b[1;34m()\u001b[0m\n",
      "\u001b[1;31mValueError\u001b[0m: Unable to parse string \"1 page\"",
      "\nDuring handling of the above exception, another exception occurred:\n",
      "\u001b[1;31mValueError\u001b[0m                                Traceback (most recent call last)",
      "\u001b[1;32m<ipython-input-144-a73453c6e00f>\u001b[0m in \u001b[0;36m<module>\u001b[1;34m\u001b[0m\n\u001b[1;32m----> 1\u001b[1;33m \u001b[0mpd\u001b[0m\u001b[1;33m.\u001b[0m\u001b[0mto_numeric\u001b[0m\u001b[1;33m(\u001b[0m\u001b[0mdf\u001b[0m\u001b[1;33m[\u001b[0m\u001b[1;34m'pages'\u001b[0m\u001b[1;33m]\u001b[0m\u001b[1;33m)\u001b[0m\u001b[1;33m\u001b[0m\u001b[1;33m\u001b[0m\u001b[0m\n\u001b[0m",
      "\u001b[1;32mC:\\ProgramData\\Anaconda3\\lib\\site-packages\\pandas\\core\\tools\\numeric.py\u001b[0m in \u001b[0;36mto_numeric\u001b[1;34m(arg, errors, downcast)\u001b[0m\n\u001b[0;32m    147\u001b[0m         \u001b[0mcoerce_numeric\u001b[0m \u001b[1;33m=\u001b[0m \u001b[0merrors\u001b[0m \u001b[1;32mnot\u001b[0m \u001b[1;32min\u001b[0m \u001b[1;33m(\u001b[0m\u001b[1;34m\"ignore\"\u001b[0m\u001b[1;33m,\u001b[0m \u001b[1;34m\"raise\"\u001b[0m\u001b[1;33m)\u001b[0m\u001b[1;33m\u001b[0m\u001b[1;33m\u001b[0m\u001b[0m\n\u001b[0;32m    148\u001b[0m         \u001b[1;32mtry\u001b[0m\u001b[1;33m:\u001b[0m\u001b[1;33m\u001b[0m\u001b[1;33m\u001b[0m\u001b[0m\n\u001b[1;32m--> 149\u001b[1;33m             values = lib.maybe_convert_numeric(\n\u001b[0m\u001b[0;32m    150\u001b[0m                 \u001b[0mvalues\u001b[0m\u001b[1;33m,\u001b[0m \u001b[0mset\u001b[0m\u001b[1;33m(\u001b[0m\u001b[1;33m)\u001b[0m\u001b[1;33m,\u001b[0m \u001b[0mcoerce_numeric\u001b[0m\u001b[1;33m=\u001b[0m\u001b[0mcoerce_numeric\u001b[0m\u001b[1;33m\u001b[0m\u001b[1;33m\u001b[0m\u001b[0m\n\u001b[0;32m    151\u001b[0m             )\n",
      "\u001b[1;32mpandas\\_libs\\lib.pyx\u001b[0m in \u001b[0;36mpandas._libs.lib.maybe_convert_numeric\u001b[1;34m()\u001b[0m\n",
      "\u001b[1;31mValueError\u001b[0m: Unable to parse string \"1 page\" at position 8191"
     ]
    }
   ],
   "source": [
    "pd.to_numeric(df['pages'])"
   ]
  },
  {
   "cell_type": "code",
   "execution_count": 147,
   "metadata": {},
   "outputs": [],
   "source": [
    "df['pages'] = df['pages'].replace(['1 page'],'1')"
   ]
  },
  {
   "cell_type": "code",
   "execution_count": 148,
   "metadata": {},
   "outputs": [
    {
     "data": {
      "text/plain": [
       "0        277\n",
       "1        465\n",
       "2        354\n",
       "3        438\n",
       "4        326\n",
       "        ... \n",
       "22886     72\n",
       "22887    342\n",
       "22888    237\n",
       "22889    222\n",
       "22890    272\n",
       "Name: pages, Length: 22891, dtype: int64"
      ]
     },
     "execution_count": 148,
     "metadata": {},
     "output_type": "execute_result"
    }
   ],
   "source": [
    "pd.to_numeric(df['pages'])"
   ]
  },
  {
   "cell_type": "code",
   "execution_count": 159,
   "metadata": {},
   "outputs": [
    {
     "data": {
      "text/plain": [
       "inf"
      ]
     },
     "execution_count": 159,
     "metadata": {},
     "output_type": "execute_result"
    }
   ],
   "source": [
    "df.pages.mean()"
   ]
  },
  {
   "cell_type": "code",
   "execution_count": 160,
   "metadata": {},
   "outputs": [
    {
     "data": {
      "text/plain": [
       "315.0"
      ]
     },
     "execution_count": 160,
     "metadata": {},
     "output_type": "execute_result"
    }
   ],
   "source": [
    "df.pages.median()"
   ]
  },
  {
   "cell_type": "code",
   "execution_count": 161,
   "metadata": {},
   "outputs": [
    {
     "data": {
      "text/plain": [
       "0    320\n",
       "dtype: object"
      ]
     },
     "execution_count": 161,
     "metadata": {},
     "output_type": "execute_result"
    }
   ],
   "source": [
    "df.pages.mode()"
   ]
  },
  {
   "cell_type": "code",
   "execution_count": null,
   "metadata": {},
   "outputs": [],
   "source": []
  }
 ],
 "metadata": {
  "kernelspec": {
   "display_name": "Python 3",
   "language": "python",
   "name": "python3"
  },
  "language_info": {
   "codemirror_mode": {
    "name": "ipython",
    "version": 3
   },
   "file_extension": ".py",
   "mimetype": "text/x-python",
   "name": "python",
   "nbconvert_exporter": "python",
   "pygments_lexer": "ipython3",
   "version": "3.8.3"
  }
 },
 "nbformat": 4,
 "nbformat_minor": 2
}
