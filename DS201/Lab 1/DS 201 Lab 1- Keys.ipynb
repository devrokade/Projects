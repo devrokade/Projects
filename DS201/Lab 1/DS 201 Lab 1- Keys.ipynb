{
 "cells": [
  {
   "cell_type": "markdown",
   "metadata": {},
   "source": [
    "## Instructions"
   ]
  },
  {
   "cell_type": "markdown",
   "metadata": {},
   "source": [
    "1) Please watch recitation videos by TAs and my lecture video on Jupyternotebook before doing this lab.\n",
    "\n",
    "2) After finishing the lab, save files as html and ipynb. \n",
    "\n",
    "3) To submit HW solutions, go to our course in Canvas --> Assignments --> HW 1 --> Submit Assignment --> Click \"Chose file\" --> choose HTML file you saved --> Click another file--> choose ipynb file--submit.\n",
    "\n",
    "4) Once you submit, download,  and check to make sure that you have submitted the correct files. \n",
    "\n",
    "5) When workingfor the solutions to this lab, please do not display unnecessary data unless it is asked.  \n",
    "\n",
    "6) Please do not share codes or the solutions in the piazza. We can still ask and clarify questions.\n",
    "\n",
    "7) Private messages to your Instructors and TAs should be used to ask questions about codes and other details.\n",
    "\n",
    "8) Each problem is worth 10 points.\n"
   ]
  },
  {
   "cell_type": "markdown",
   "metadata": {},
   "source": [
    "#### Each problem is worth 10 points."
   ]
  },
  {
   "cell_type": "code",
   "execution_count": 191,
   "metadata": {},
   "outputs": [],
   "source": [
    "#import packages\n",
    "import pandas as pd\n",
    "import numpy as np"
   ]
  },
  {
   "cell_type": "markdown",
   "metadata": {},
   "source": [
    "### Problem 1. \n",
    "Upload the .csv file titanic.csv that came with this HW in the notebook, and name it as titanic. Make sure to import panda as pd and numpy as np.  Those are the necessary packages. Read the details about the titanic data here https://data.world/nrippner/titanic-disaster-dataset. Show the head of the data and find out how many rows and columns are in the data."
   ]
  },
  {
   "cell_type": "code",
   "execution_count": 192,
   "metadata": {},
   "outputs": [
    {
     "name": "stdout",
     "output_type": "stream",
     "text": [
      "   pclass  survived                            name     sex      age  sibsp  \\\n",
      "0     1.0       1.0   Allen, Miss. Elisabeth Walton  female  29.0000    0.0   \n",
      "1     1.0       1.0  Allison, Master. Hudson Trevor    male   0.9167    1.0   \n",
      "2     1.0       0.0    Allison, Miss. Helen Loraine  female   2.0000    1.0   \n",
      "\n",
      "   parch  ticket      fare    cabin embarked boat  body  \\\n",
      "0    0.0   24160  211.3375       B5        S    2   NaN   \n",
      "1    2.0  113781  151.5500  C22 C26        S   11   NaN   \n",
      "2    2.0  113781  151.5500  C22 C26        S  NaN   NaN   \n",
      "\n",
      "                         home.dest  \n",
      "0                     St Louis, MO  \n",
      "1  Montreal, PQ / Chesterville, ON  \n",
      "2  Montreal, PQ / Chesterville, ON  \n"
     ]
    }
   ],
   "source": [
    "titanic = pd.read_csv(\"titanic.csv\")\n",
    "print(titanic.head(3))"
   ]
  },
  {
   "cell_type": "code",
   "execution_count": 166,
   "metadata": {},
   "outputs": [
    {
     "data": {
      "text/plain": [
       "(1310, 14)"
      ]
     },
     "execution_count": 166,
     "metadata": {},
     "output_type": "execute_result"
    }
   ],
   "source": [
    "titanic.shape"
   ]
  },
  {
   "cell_type": "markdown",
   "metadata": {},
   "source": [
    "### Problem 2. \n",
    " Make a list of variables in the titanic data set. Then classify all the variables as one of discrete, continuous, nominal, and ordinal. Explain how you determined the types of variables."
   ]
  },
  {
   "cell_type": "code",
   "execution_count": null,
   "metadata": {},
   "outputs": [],
   "source": [
    "var_list= list(titanic.columns)\n",
    "print(var_list)"
   ]
  },
  {
   "cell_type": "code",
   "execution_count": 168,
   "metadata": {},
   "outputs": [
    {
     "data": {
      "text/plain": [
       "pclass       float64\n",
       "survived     float64\n",
       "name          object\n",
       "sex           object\n",
       "age          float64\n",
       "sibsp        float64\n",
       "parch        float64\n",
       "ticket        object\n",
       "fare         float64\n",
       "cabin         object\n",
       "embarked      object\n",
       "boat          object\n",
       "body         float64\n",
       "home.dest     object\n",
       "dtype: object"
      ]
     },
     "execution_count": 168,
     "metadata": {},
     "output_type": "execute_result"
    }
   ],
   "source": [
    "titanic.dtypes"
   ]
  },
  {
   "cell_type": "markdown",
   "metadata": {},
   "source": [
    "The code above helps somewhat. Not everything is correct here. For example, pclass is just the label for class which is 1st, 2nd, and 3rd. This is clearly a categorical variables (called object in python) because it can be ordered as 1st, 2nd and 3rd or the other way around. It says float as it is entered as float."
   ]
  },
  {
   "cell_type": "markdown",
   "metadata": {},
   "source": [
    "pclass: Categorical, ordinal with 3 ordered labels\n",
    "\n",
    "survived: Categorical, nominal with 2 values Yes = 1 and No =0. Not ordered\n",
    "\n",
    "name: Categorical, nominal\n",
    "\n",
    "age: Numerical, Continous, or Discrete (Usually, age should be a discrete numerical variable. In this data, you will see that some ages are decimals such as  23.5 or 0.9, etc. Months can be turned into decimals in which case, we may consider it to be continuous).\n",
    "\n",
    "sex: Categorical, Nominal\n",
    "\n",
    "sibsp: (Number of siblings/Spouses present onboard) Numerical, Discrete \n",
    "\n",
    "parch: (Number of siblings/Spouses present onboard) Numerical, Discrete\n",
    "\n",
    "ticket: (Ticket number) Categorical, Nominal \n",
    "\n",
    "fare: Numerical, Continuous\n",
    "\n",
    "cabin: (Cabin number or cabin ID) Categorical, Nominal \n",
    "\n",
    "embarked: (place where the passenger started, C = Cherbourg; Q = Queenstown; S = Southampton)  Categorical, Nominal\n",
    "\n",
    "boat: (Lifeboat id or number) Categorical, Nominal \n",
    "\n",
    "body: (Body Identification Number) Numerical, Discrete (could as well be categorical and nominal)\n",
    "\n",
    "home.dest: Categorical, Nominal \n"
   ]
  },
  {
   "cell_type": "markdown",
   "metadata": {},
   "source": [
    "### Problem 3. \n",
    " Learn more about isnull() or isna() function  here https://pandas.pydata.org/pandas-docs/stable/reference/api/pandas.isnull.html and use it to find how many missing values does each variable has. Find out which three variables have the most missing values, remove them from the data frame, and name the new data frame as titanic1."
   ]
  },
  {
   "cell_type": "code",
   "execution_count": 181,
   "metadata": {},
   "outputs": [
    {
     "data": {
      "text/plain": [
       "pclass          1\n",
       "survived        1\n",
       "name            1\n",
       "sex             1\n",
       "age           264\n",
       "sibsp           1\n",
       "parch           1\n",
       "ticket          1\n",
       "fare            2\n",
       "cabin        1015\n",
       "embarked        3\n",
       "boat          824\n",
       "body         1189\n",
       "home.dest     565\n",
       "dtype: int64"
      ]
     },
     "execution_count": 181,
     "metadata": {},
     "output_type": "execute_result"
    }
   ],
   "source": [
    "titanic.isna().sum()"
   ]
  },
  {
   "cell_type": "code",
   "execution_count": 182,
   "metadata": {},
   "outputs": [
    {
     "data": {
      "text/html": [
       "<div>\n",
       "<style scoped>\n",
       "    .dataframe tbody tr th:only-of-type {\n",
       "        vertical-align: middle;\n",
       "    }\n",
       "\n",
       "    .dataframe tbody tr th {\n",
       "        vertical-align: top;\n",
       "    }\n",
       "\n",
       "    .dataframe thead th {\n",
       "        text-align: right;\n",
       "    }\n",
       "</style>\n",
       "<table border=\"1\" class=\"dataframe\">\n",
       "  <thead>\n",
       "    <tr style=\"text-align: right;\">\n",
       "      <th></th>\n",
       "      <th>pclass</th>\n",
       "      <th>survived</th>\n",
       "      <th>name</th>\n",
       "      <th>sex</th>\n",
       "      <th>age</th>\n",
       "      <th>sibsp</th>\n",
       "      <th>parch</th>\n",
       "      <th>ticket</th>\n",
       "      <th>fare</th>\n",
       "      <th>embarked</th>\n",
       "      <th>home.dest</th>\n",
       "    </tr>\n",
       "  </thead>\n",
       "  <tbody>\n",
       "    <tr>\n",
       "      <td>0</td>\n",
       "      <td>1.0</td>\n",
       "      <td>1.0</td>\n",
       "      <td>Allen, Miss. Elisabeth Walton</td>\n",
       "      <td>female</td>\n",
       "      <td>29.0000</td>\n",
       "      <td>0.0</td>\n",
       "      <td>0.0</td>\n",
       "      <td>24160</td>\n",
       "      <td>211.3375</td>\n",
       "      <td>S</td>\n",
       "      <td>St Louis, MO</td>\n",
       "    </tr>\n",
       "    <tr>\n",
       "      <td>1</td>\n",
       "      <td>1.0</td>\n",
       "      <td>1.0</td>\n",
       "      <td>Allison, Master. Hudson Trevor</td>\n",
       "      <td>male</td>\n",
       "      <td>0.9167</td>\n",
       "      <td>1.0</td>\n",
       "      <td>2.0</td>\n",
       "      <td>113781</td>\n",
       "      <td>151.5500</td>\n",
       "      <td>S</td>\n",
       "      <td>Montreal, PQ / Chesterville, ON</td>\n",
       "    </tr>\n",
       "    <tr>\n",
       "      <td>2</td>\n",
       "      <td>1.0</td>\n",
       "      <td>0.0</td>\n",
       "      <td>Allison, Miss. Helen Loraine</td>\n",
       "      <td>female</td>\n",
       "      <td>2.0000</td>\n",
       "      <td>1.0</td>\n",
       "      <td>2.0</td>\n",
       "      <td>113781</td>\n",
       "      <td>151.5500</td>\n",
       "      <td>S</td>\n",
       "      <td>Montreal, PQ / Chesterville, ON</td>\n",
       "    </tr>\n",
       "  </tbody>\n",
       "</table>\n",
       "</div>"
      ],
      "text/plain": [
       "   pclass  survived                            name     sex      age  sibsp  \\\n",
       "0     1.0       1.0   Allen, Miss. Elisabeth Walton  female  29.0000    0.0   \n",
       "1     1.0       1.0  Allison, Master. Hudson Trevor    male   0.9167    1.0   \n",
       "2     1.0       0.0    Allison, Miss. Helen Loraine  female   2.0000    1.0   \n",
       "\n",
       "   parch  ticket      fare embarked                        home.dest  \n",
       "0    0.0   24160  211.3375        S                     St Louis, MO  \n",
       "1    2.0  113781  151.5500        S  Montreal, PQ / Chesterville, ON  \n",
       "2    2.0  113781  151.5500        S  Montreal, PQ / Chesterville, ON  "
      ]
     },
     "execution_count": 182,
     "metadata": {},
     "output_type": "execute_result"
    }
   ],
   "source": [
    "newcolumns = ['pclass', 'survived', 'name', 'sex', 'age', 'sibsp', 'parch', 'ticket', 'fare',\n",
    "              'embarked', 'home.dest']\n",
    "titanic1 = titanic[newcolumns]\n",
    "titanic1.head(3)"
   ]
  },
  {
   "cell_type": "markdown",
   "metadata": {},
   "source": [
    "### Problem 4. \n",
    "Filter the titanic1 data with \"and\" operator. https://kanoki.org/2020/01/21/pandas-dataframe-filter-with-multiple-conditions/\n",
    "\n",
    "a) How many passengers who paid less than the average fare survived? \n",
    "\n",
    "b) Did a passenger who embarked journey from Queenstown and was of 40 years of age survive?\n"
   ]
  },
  {
   "cell_type": "markdown",
   "metadata": {},
   "source": [
    "It does not matter which data you use. It is because this problem does not use the removed columns."
   ]
  },
  {
   "cell_type": "code",
   "execution_count": 217,
   "metadata": {},
   "outputs": [
    {
     "data": {
      "text/plain": [
       "(319, 14)"
      ]
     },
     "execution_count": 217,
     "metadata": {},
     "output_type": "execute_result"
    }
   ],
   "source": [
    "#4a\n",
    "titanic[(titanic.fare <np.mean(titanic.fare) ) &  (titanic.survived==1)].shape"
   ]
  },
  {
   "cell_type": "code",
   "execution_count": 184,
   "metadata": {},
   "outputs": [
    {
     "data": {
      "text/html": [
       "<div>\n",
       "<style scoped>\n",
       "    .dataframe tbody tr th:only-of-type {\n",
       "        vertical-align: middle;\n",
       "    }\n",
       "\n",
       "    .dataframe tbody tr th {\n",
       "        vertical-align: top;\n",
       "    }\n",
       "\n",
       "    .dataframe thead th {\n",
       "        text-align: right;\n",
       "    }\n",
       "</style>\n",
       "<table border=\"1\" class=\"dataframe\">\n",
       "  <thead>\n",
       "    <tr style=\"text-align: right;\">\n",
       "      <th></th>\n",
       "      <th>pclass</th>\n",
       "      <th>survived</th>\n",
       "      <th>name</th>\n",
       "      <th>sex</th>\n",
       "      <th>age</th>\n",
       "      <th>sibsp</th>\n",
       "      <th>parch</th>\n",
       "      <th>ticket</th>\n",
       "      <th>fare</th>\n",
       "      <th>embarked</th>\n",
       "      <th>home.dest</th>\n",
       "    </tr>\n",
       "  </thead>\n",
       "  <tbody>\n",
       "    <tr>\n",
       "      <td>683</td>\n",
       "      <td>3.0</td>\n",
       "      <td>0.0</td>\n",
       "      <td>Bourke, Mr. John</td>\n",
       "      <td>male</td>\n",
       "      <td>40.0</td>\n",
       "      <td>1.0</td>\n",
       "      <td>1.0</td>\n",
       "      <td>364849</td>\n",
       "      <td>15.5</td>\n",
       "      <td>Q</td>\n",
       "      <td>Ireland Chicago, IL</td>\n",
       "    </tr>\n",
       "  </tbody>\n",
       "</table>\n",
       "</div>"
      ],
      "text/plain": [
       "     pclass  survived              name   sex   age  sibsp  parch  ticket  \\\n",
       "683     3.0       0.0  Bourke, Mr. John  male  40.0    1.0    1.0  364849   \n",
       "\n",
       "     fare embarked            home.dest  \n",
       "683  15.5        Q  Ireland Chicago, IL  "
      ]
     },
     "execution_count": 184,
     "metadata": {},
     "output_type": "execute_result"
    }
   ],
   "source": [
    "#4b\n",
    "titanic1[(titanic1.embarked == \"Q\") & (titanic1.age==40)]"
   ]
  },
  {
   "cell_type": "code",
   "execution_count": 185,
   "metadata": {},
   "outputs": [
    {
     "data": {
      "text/html": [
       "<div>\n",
       "<style scoped>\n",
       "    .dataframe tbody tr th:only-of-type {\n",
       "        vertical-align: middle;\n",
       "    }\n",
       "\n",
       "    .dataframe tbody tr th {\n",
       "        vertical-align: top;\n",
       "    }\n",
       "\n",
       "    .dataframe thead th {\n",
       "        text-align: right;\n",
       "    }\n",
       "</style>\n",
       "<table border=\"1\" class=\"dataframe\">\n",
       "  <thead>\n",
       "    <tr style=\"text-align: right;\">\n",
       "      <th></th>\n",
       "      <th>name</th>\n",
       "      <th>survived</th>\n",
       "    </tr>\n",
       "  </thead>\n",
       "  <tbody>\n",
       "    <tr>\n",
       "      <td>683</td>\n",
       "      <td>Bourke, Mr. John</td>\n",
       "      <td>0.0</td>\n",
       "    </tr>\n",
       "  </tbody>\n",
       "</table>\n",
       "</div>"
      ],
      "text/plain": [
       "                 name  survived\n",
       "683  Bourke, Mr. John       0.0"
      ]
     },
     "execution_count": 185,
     "metadata": {},
     "output_type": "execute_result"
    }
   ],
   "source": [
    "# We could also do\n",
    "titanic1[(titanic1.embarked == \"Q\") & (titanic.age==40)][[\"name\",\"survived\"]]"
   ]
  },
  {
   "cell_type": "markdown",
   "metadata": {},
   "source": [
    "### Problem 5. \n",
    "Continuing with the titanic1 data set, answer the following questions.\n",
    "\n",
    "a) Use groupby function to find out how many passengers were in each class. https://pandas.pydata.org/pandas-docs/stable/reference/api/pandas.DataFrame.groupby.html\n",
    "\n",
    "b) Create a new column with a column name “luck”  in the titanic1 data set with the following rules. Let’s call a passenger “unlucky” if the passenger was in the first-class, paid more than the average fare, and did not survive.  On the contrary, a passenger is “lucky” if the passenger was not in the first class, paid less or equal to the average fare, and survived. Let’s call everybody else, “averageluck.”  Show the head of the data with a visible luck column.\n"
   ]
  },
  {
   "cell_type": "code",
   "execution_count": 186,
   "metadata": {},
   "outputs": [
    {
     "data": {
      "text/plain": [
       "pclass\n",
       "1.0    323\n",
       "2.0    277\n",
       "3.0    709\n",
       "dtype: int64"
      ]
     },
     "execution_count": 186,
     "metadata": {},
     "output_type": "execute_result"
    }
   ],
   "source": [
    "#5a\n",
    "titanic1.groupby(['pclass']).size()"
   ]
  },
  {
   "cell_type": "markdown",
   "metadata": {},
   "source": [
    "####  5b. This problem is where students should find their own solution creatively with the help from the internet. There are many ways to doi it. The following is  my try. It is long but works."
   ]
  },
  {
   "cell_type": "code",
   "execution_count": 187,
   "metadata": {},
   "outputs": [],
   "source": [
    "t3= titanic1 #renamed data with a short name for simplicity\n",
    "t3=titanic1.reset_index(inplace=False) # changed the index to a column\n",
    "t3.rename(columns={'index':'id'}, inplace=True) # remaed the index column as id "
   ]
  },
  {
   "cell_type": "code",
   "execution_count": 188,
   "metadata": {},
   "outputs": [],
   "source": [
    "# creating a list of ids that will have unlucky label\n",
    "ui= list(t3[(t3[\"pclass\"]==1)& ((t3[\"fare\"]>np.mean(t3[\"fare\"]))& (t3[\"survived\"] ==0))].id)\n",
    "# creating a list of ids that will have lucky label\n",
    "li= list(t3[(t3[\"pclass\"]!=1)& ((t3[\"fare\"]<=np.mean(t3[\"fare\"]))& (t3[\"survived\"] ==1))].id)\n",
    "## creating a list of ids that will have averageluck label\n",
    "rest=list(set(t3.id)-(set(ui) | set(li)))"
   ]
  },
  {
   "cell_type": "code",
   "execution_count": 189,
   "metadata": {},
   "outputs": [
    {
     "data": {
      "text/html": [
       "<div>\n",
       "<style scoped>\n",
       "    .dataframe tbody tr th:only-of-type {\n",
       "        vertical-align: middle;\n",
       "    }\n",
       "\n",
       "    .dataframe tbody tr th {\n",
       "        vertical-align: top;\n",
       "    }\n",
       "\n",
       "    .dataframe thead th {\n",
       "        text-align: right;\n",
       "    }\n",
       "</style>\n",
       "<table border=\"1\" class=\"dataframe\">\n",
       "  <thead>\n",
       "    <tr style=\"text-align: right;\">\n",
       "      <th></th>\n",
       "      <th>id</th>\n",
       "      <th>pclass</th>\n",
       "      <th>survived</th>\n",
       "      <th>name</th>\n",
       "      <th>sex</th>\n",
       "      <th>age</th>\n",
       "      <th>sibsp</th>\n",
       "      <th>parch</th>\n",
       "      <th>ticket</th>\n",
       "      <th>fare</th>\n",
       "      <th>embarked</th>\n",
       "      <th>home.dest</th>\n",
       "      <th>luck</th>\n",
       "    </tr>\n",
       "  </thead>\n",
       "  <tbody>\n",
       "    <tr>\n",
       "      <td>0</td>\n",
       "      <td>0</td>\n",
       "      <td>1.0</td>\n",
       "      <td>1.0</td>\n",
       "      <td>Allen, Miss. Elisabeth Walton</td>\n",
       "      <td>female</td>\n",
       "      <td>29.0000</td>\n",
       "      <td>0.0</td>\n",
       "      <td>0.0</td>\n",
       "      <td>24160</td>\n",
       "      <td>211.3375</td>\n",
       "      <td>S</td>\n",
       "      <td>St Louis, MO</td>\n",
       "      <td>averageluck</td>\n",
       "    </tr>\n",
       "    <tr>\n",
       "      <td>1</td>\n",
       "      <td>1</td>\n",
       "      <td>1.0</td>\n",
       "      <td>1.0</td>\n",
       "      <td>Allison, Master. Hudson Trevor</td>\n",
       "      <td>male</td>\n",
       "      <td>0.9167</td>\n",
       "      <td>1.0</td>\n",
       "      <td>2.0</td>\n",
       "      <td>113781</td>\n",
       "      <td>151.5500</td>\n",
       "      <td>S</td>\n",
       "      <td>Montreal, PQ / Chesterville, ON</td>\n",
       "      <td>averageluck</td>\n",
       "    </tr>\n",
       "    <tr>\n",
       "      <td>2</td>\n",
       "      <td>2</td>\n",
       "      <td>1.0</td>\n",
       "      <td>0.0</td>\n",
       "      <td>Allison, Miss. Helen Loraine</td>\n",
       "      <td>female</td>\n",
       "      <td>2.0000</td>\n",
       "      <td>1.0</td>\n",
       "      <td>2.0</td>\n",
       "      <td>113781</td>\n",
       "      <td>151.5500</td>\n",
       "      <td>S</td>\n",
       "      <td>Montreal, PQ / Chesterville, ON</td>\n",
       "      <td>unlucky</td>\n",
       "    </tr>\n",
       "  </tbody>\n",
       "</table>\n",
       "</div>"
      ],
      "text/plain": [
       "   id  pclass  survived                            name     sex      age  \\\n",
       "0   0     1.0       1.0   Allen, Miss. Elisabeth Walton  female  29.0000   \n",
       "1   1     1.0       1.0  Allison, Master. Hudson Trevor    male   0.9167   \n",
       "2   2     1.0       0.0    Allison, Miss. Helen Loraine  female   2.0000   \n",
       "\n",
       "   sibsp  parch  ticket      fare embarked                        home.dest  \\\n",
       "0    0.0    0.0   24160  211.3375        S                     St Louis, MO   \n",
       "1    1.0    2.0  113781  151.5500        S  Montreal, PQ / Chesterville, ON   \n",
       "2    1.0    2.0  113781  151.5500        S  Montreal, PQ / Chesterville, ON   \n",
       "\n",
       "          luck  \n",
       "0  averageluck  \n",
       "1  averageluck  \n",
       "2      unlucky  "
      ]
     },
     "execution_count": 189,
     "metadata": {},
     "output_type": "execute_result"
    }
   ],
   "source": [
    "#creating a column with .loc function\n",
    "t3.loc[t3.id.isin(ui), 'luck'] = 'unlucky'\n",
    "t3.loc[t3.id.isin(li), 'luck'] = 'lucky'\n",
    "t3.loc[t3.id.isin(rest), 'luck'] = 'averageluck'\n",
    "#renaming the data to titanic2\n",
    "titanic2 = t3\n",
    "titanic2.head(3)"
   ]
  },
  {
   "cell_type": "code",
   "execution_count": 190,
   "metadata": {},
   "outputs": [
    {
     "data": {
      "text/plain": [
       "luck\n",
       "averageluck    956\n",
       "lucky          277\n",
       "unlucky         77\n",
       "dtype: int64"
      ]
     },
     "execution_count": 190,
     "metadata": {},
     "output_type": "execute_result"
    }
   ],
   "source": [
    "titanic2.groupby(['luck']).size()"
   ]
  },
  {
   "cell_type": "code",
   "execution_count": null,
   "metadata": {},
   "outputs": [],
   "source": []
  }
 ],
 "metadata": {
  "kernelspec": {
   "display_name": "Python 3",
   "language": "python",
   "name": "python3"
  },
  "language_info": {
   "codemirror_mode": {
    "name": "ipython",
    "version": 3
   },
   "file_extension": ".py",
   "mimetype": "text/x-python",
   "name": "python",
   "nbconvert_exporter": "python",
   "pygments_lexer": "ipython3",
   "version": "3.8.3"
  }
 },
 "nbformat": 4,
 "nbformat_minor": 2
}
