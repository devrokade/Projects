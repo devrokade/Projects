{
 "cells": [
  {
   "cell_type": "markdown",
   "metadata": {},
   "source": [
    "# This Lab is open from 6 am Tuesday 9/8 to 11:59 pm on Friday 9/11"
   ]
  },
  {
   "cell_type": "markdown",
   "metadata": {},
   "source": [
    "This Lab explores ways to calculate basic statistics, measure of spread and making a box plot for numeric variables in the data called grbooks.csv. This is a data frame with authors, book names and ratings etc. Please make sure to create a folder called Lab 3 in your DS 201 folder and save this ipynb file together with grbooks data. That way all of your solutions are separated from your other ipynb files and it  will be easier to find the solution when it is time to submit.\n"
   ]
  },
  {
   "cell_type": "markdown",
   "metadata": {},
   "source": [
    "Let's start by importing all the necessory packages and the data"
   ]
  },
  {
   "cell_type": "code",
   "execution_count": 42,
   "metadata": {},
   "outputs": [],
   "source": [
    "import pandas as pd\n",
    "import numpy as np\n",
    "import matplotlib as mpl\n",
    "import matplotlib.pyplot as mpt\n",
    "import seaborn as sbn\n",
    "cols=['author_name','book_title', 'book_average_rating', 'num_ratings', 'num_reviews',\n",
    "        'score']\n",
    "int_cols=['book_average_rating', 'num_ratings', 'num_reviews',\n",
    "        'score']"
   ]
  },
  {
   "cell_type": "markdown",
   "metadata": {},
   "source": [
    "### Problem 1 (10 points)\n",
    "After you upload the data, find the standard deviation, and mean absolute deviation(MAD) of 4 numerical variables listed in the previous cell. Find the variables with the lowest and highest standard deviation among these 6 variables. Do the same for MAD.  Comment on what it means for these variables to have the lowest $\\sigma$, highest $\\sigma$, lowest MAD, and highest MAD. "
   ]
  },
  {
   "cell_type": "code",
   "execution_count": 43,
   "metadata": {},
   "outputs": [
    {
     "data": {
      "text/html": [
       "<div>\n",
       "<style scoped>\n",
       "    .dataframe tbody tr th:only-of-type {\n",
       "        vertical-align: middle;\n",
       "    }\n",
       "\n",
       "    .dataframe tbody tr th {\n",
       "        vertical-align: top;\n",
       "    }\n",
       "\n",
       "    .dataframe thead th {\n",
       "        text-align: right;\n",
       "    }\n",
       "</style>\n",
       "<table border=\"1\" class=\"dataframe\">\n",
       "  <thead>\n",
       "    <tr style=\"text-align: right;\">\n",
       "      <th></th>\n",
       "      <th>author_average_rating</th>\n",
       "      <th>author_gender</th>\n",
       "      <th>author_genres</th>\n",
       "      <th>author_id</th>\n",
       "      <th>author_name</th>\n",
       "      <th>author_page_url</th>\n",
       "      <th>author_rating_count</th>\n",
       "      <th>author_review_count</th>\n",
       "      <th>birthplace</th>\n",
       "      <th>book_average_rating</th>\n",
       "      <th>book_fullurl</th>\n",
       "      <th>book_id</th>\n",
       "      <th>book_title</th>\n",
       "      <th>genre_1</th>\n",
       "      <th>genre_2</th>\n",
       "      <th>num_ratings</th>\n",
       "      <th>num_reviews</th>\n",
       "      <th>pages</th>\n",
       "      <th>publish_date</th>\n",
       "      <th>score</th>\n",
       "    </tr>\n",
       "  </thead>\n",
       "  <tbody>\n",
       "    <tr>\n",
       "      <th>0</th>\n",
       "      <td>4.01</td>\n",
       "      <td>female</td>\n",
       "      <td>historical-fiction,</td>\n",
       "      <td>74489</td>\n",
       "      <td>Victoria Thompson\\n</td>\n",
       "      <td>/author/show/74489.Victoria_Thompson</td>\n",
       "      <td>74399</td>\n",
       "      <td>6268</td>\n",
       "      <td>United States\\n</td>\n",
       "      <td>4.02</td>\n",
       "      <td>https://www.goodreads.com/book/show/686717.Mur...</td>\n",
       "      <td>686717</td>\n",
       "      <td>\\n      Murder on St. Mark's Place\\n</td>\n",
       "      <td>Mystery</td>\n",
       "      <td>Historical</td>\n",
       "      <td>5260</td>\n",
       "      <td>375</td>\n",
       "      <td>277</td>\n",
       "      <td>2000</td>\n",
       "      <td>3230</td>\n",
       "    </tr>\n",
       "    <tr>\n",
       "      <th>1</th>\n",
       "      <td>4.15</td>\n",
       "      <td>male</td>\n",
       "      <td>literature-fiction,mystery-thrillers,</td>\n",
       "      <td>706255</td>\n",
       "      <td>Stieg Larsson\\n</td>\n",
       "      <td>/author/show/706255.Stieg_Larsson</td>\n",
       "      <td>3726435</td>\n",
       "      <td>142704</td>\n",
       "      <td>Sweden\\n</td>\n",
       "      <td>4.13</td>\n",
       "      <td>https://www.goodreads.com/book/show/2429135.Th...</td>\n",
       "      <td>2429135</td>\n",
       "      <td>\\n      The Girl with the Dragon Tattoo\\n</td>\n",
       "      <td>Fiction</td>\n",
       "      <td>Mystery</td>\n",
       "      <td>2229163</td>\n",
       "      <td>65227</td>\n",
       "      <td>465</td>\n",
       "      <td>August 2005</td>\n",
       "      <td>3062</td>\n",
       "    </tr>\n",
       "    <tr>\n",
       "      <th>2</th>\n",
       "      <td>4.00</td>\n",
       "      <td>female</td>\n",
       "      <td>romance,</td>\n",
       "      <td>5618190</td>\n",
       "      <td>Mimi Jean Pamfiloff\\n</td>\n",
       "      <td>/author/show/5618190.Mimi_Jean_Pamfiloff</td>\n",
       "      <td>76496</td>\n",
       "      <td>7975</td>\n",
       "      <td>United States\\n</td>\n",
       "      <td>3.99</td>\n",
       "      <td>https://www.goodreads.com/book/show/27833684-t...</td>\n",
       "      <td>27833684</td>\n",
       "      <td>\\n      Tailored for Trouble\\n</td>\n",
       "      <td>Romance</td>\n",
       "      <td>Contemporary</td>\n",
       "      <td>2151</td>\n",
       "      <td>391</td>\n",
       "      <td>354</td>\n",
       "      <td>2016</td>\n",
       "      <td>4585</td>\n",
       "    </tr>\n",
       "    <tr>\n",
       "      <th>3</th>\n",
       "      <td>3.88</td>\n",
       "      <td>male</td>\n",
       "      <td>fiction,memoir,</td>\n",
       "      <td>37871</td>\n",
       "      <td>José Donoso\\n</td>\n",
       "      <td>/author/show/37871.Jos_Donoso</td>\n",
       "      <td>5522</td>\n",
       "      <td>489</td>\n",
       "      <td>Chile\\n</td>\n",
       "      <td>4.14</td>\n",
       "      <td>https://www.goodreads.com/book/show/382975.The...</td>\n",
       "      <td>382975</td>\n",
       "      <td>\\n      The Obscene Bird of Night\\n</td>\n",
       "      <td>Fiction</td>\n",
       "      <td>Magical Realism</td>\n",
       "      <td>1844</td>\n",
       "      <td>173</td>\n",
       "      <td>438</td>\n",
       "      <td>1970</td>\n",
       "      <td>1533</td>\n",
       "    </tr>\n",
       "  </tbody>\n",
       "</table>\n",
       "</div>"
      ],
      "text/plain": [
       "   author_average_rating author_gender                          author_genres  \\\n",
       "0                   4.01        female                    historical-fiction,   \n",
       "1                   4.15          male  literature-fiction,mystery-thrillers,   \n",
       "2                   4.00        female                               romance,   \n",
       "3                   3.88          male                        fiction,memoir,   \n",
       "\n",
       "   author_id            author_name                           author_page_url  \\\n",
       "0      74489    Victoria Thompson\\n      /author/show/74489.Victoria_Thompson   \n",
       "1     706255        Stieg Larsson\\n         /author/show/706255.Stieg_Larsson   \n",
       "2    5618190  Mimi Jean Pamfiloff\\n  /author/show/5618190.Mimi_Jean_Pamfiloff   \n",
       "3      37871          José Donoso\\n             /author/show/37871.Jos_Donoso   \n",
       "\n",
       "   author_rating_count  author_review_count            birthplace  \\\n",
       "0                74399                 6268   United States\\n       \n",
       "1              3726435               142704          Sweden\\n       \n",
       "2                76496                 7975     United States\\n     \n",
       "3                 5522                  489           Chile\\n       \n",
       "\n",
       "   book_average_rating                                       book_fullurl  \\\n",
       "0                 4.02  https://www.goodreads.com/book/show/686717.Mur...   \n",
       "1                 4.13  https://www.goodreads.com/book/show/2429135.Th...   \n",
       "2                 3.99  https://www.goodreads.com/book/show/27833684-t...   \n",
       "3                 4.14  https://www.goodreads.com/book/show/382975.The...   \n",
       "\n",
       "    book_id                                 book_title  genre_1  \\\n",
       "0    686717       \\n      Murder on St. Mark's Place\\n  Mystery   \n",
       "1   2429135  \\n      The Girl with the Dragon Tattoo\\n  Fiction   \n",
       "2  27833684             \\n      Tailored for Trouble\\n  Romance   \n",
       "3    382975        \\n      The Obscene Bird of Night\\n  Fiction   \n",
       "\n",
       "           genre_2  num_ratings  num_reviews pages publish_date  score  \n",
       "0       Historical         5260          375   277         2000   3230  \n",
       "1          Mystery      2229163        65227   465  August 2005   3062  \n",
       "2     Contemporary         2151          391   354         2016   4585  \n",
       "3  Magical Realism         1844          173   438         1970   1533  "
      ]
     },
     "execution_count": 43,
     "metadata": {},
     "output_type": "execute_result"
    }
   ],
   "source": [
    "df=pd.read_csv(\"grbooks.csv\")\n",
    "df.head(4)"
   ]
  },
  {
   "cell_type": "code",
   "execution_count": 44,
   "metadata": {},
   "outputs": [
    {
     "data": {
      "text/plain": [
       "(22891, 20)"
      ]
     },
     "execution_count": 44,
     "metadata": {},
     "output_type": "execute_result"
    }
   ],
   "source": [
    "df.shape"
   ]
  },
  {
   "cell_type": "code",
   "execution_count": 45,
   "metadata": {},
   "outputs": [
    {
     "data": {
      "text/plain": [
       "author_average_rating    float64\n",
       "author_gender             object\n",
       "author_genres             object\n",
       "author_id                  int64\n",
       "author_name               object\n",
       "author_page_url           object\n",
       "author_rating_count        int64\n",
       "author_review_count        int64\n",
       "birthplace                object\n",
       "book_average_rating      float64\n",
       "book_fullurl              object\n",
       "book_id                   object\n",
       "book_title                object\n",
       "genre_1                   object\n",
       "genre_2                   object\n",
       "num_ratings                int64\n",
       "num_reviews                int64\n",
       "pages                     object\n",
       "publish_date              object\n",
       "score                      int64\n",
       "dtype: object"
      ]
     },
     "execution_count": 45,
     "metadata": {},
     "output_type": "execute_result"
    }
   ],
   "source": [
    "df.dtypes"
   ]
  },
  {
   "cell_type": "code",
   "execution_count": 46,
   "metadata": {},
   "outputs": [],
   "source": [
    "newdf=df[cols]"
   ]
  },
  {
   "cell_type": "code",
   "execution_count": 47,
   "metadata": {},
   "outputs": [
    {
     "data": {
      "text/html": [
       "<div>\n",
       "<style scoped>\n",
       "    .dataframe tbody tr th:only-of-type {\n",
       "        vertical-align: middle;\n",
       "    }\n",
       "\n",
       "    .dataframe tbody tr th {\n",
       "        vertical-align: top;\n",
       "    }\n",
       "\n",
       "    .dataframe thead th {\n",
       "        text-align: right;\n",
       "    }\n",
       "</style>\n",
       "<table border=\"1\" class=\"dataframe\">\n",
       "  <thead>\n",
       "    <tr style=\"text-align: right;\">\n",
       "      <th></th>\n",
       "      <th>author_name</th>\n",
       "      <th>book_title</th>\n",
       "      <th>book_average_rating</th>\n",
       "      <th>num_ratings</th>\n",
       "      <th>num_reviews</th>\n",
       "      <th>score</th>\n",
       "    </tr>\n",
       "  </thead>\n",
       "  <tbody>\n",
       "    <tr>\n",
       "      <th>0</th>\n",
       "      <td>Victoria Thompson\\n</td>\n",
       "      <td>\\n      Murder on St. Mark's Place\\n</td>\n",
       "      <td>4.02</td>\n",
       "      <td>5260</td>\n",
       "      <td>375</td>\n",
       "      <td>3230</td>\n",
       "    </tr>\n",
       "    <tr>\n",
       "      <th>1</th>\n",
       "      <td>Stieg Larsson\\n</td>\n",
       "      <td>\\n      The Girl with the Dragon Tattoo\\n</td>\n",
       "      <td>4.13</td>\n",
       "      <td>2229163</td>\n",
       "      <td>65227</td>\n",
       "      <td>3062</td>\n",
       "    </tr>\n",
       "    <tr>\n",
       "      <th>2</th>\n",
       "      <td>Mimi Jean Pamfiloff\\n</td>\n",
       "      <td>\\n      Tailored for Trouble\\n</td>\n",
       "      <td>3.99</td>\n",
       "      <td>2151</td>\n",
       "      <td>391</td>\n",
       "      <td>4585</td>\n",
       "    </tr>\n",
       "    <tr>\n",
       "      <th>3</th>\n",
       "      <td>José Donoso\\n</td>\n",
       "      <td>\\n      The Obscene Bird of Night\\n</td>\n",
       "      <td>4.14</td>\n",
       "      <td>1844</td>\n",
       "      <td>173</td>\n",
       "      <td>1533</td>\n",
       "    </tr>\n",
       "  </tbody>\n",
       "</table>\n",
       "</div>"
      ],
      "text/plain": [
       "             author_name                                 book_title  \\\n",
       "0    Victoria Thompson\\n       \\n      Murder on St. Mark's Place\\n   \n",
       "1        Stieg Larsson\\n  \\n      The Girl with the Dragon Tattoo\\n   \n",
       "2  Mimi Jean Pamfiloff\\n             \\n      Tailored for Trouble\\n   \n",
       "3          José Donoso\\n        \\n      The Obscene Bird of Night\\n   \n",
       "\n",
       "   book_average_rating  num_ratings  num_reviews  score  \n",
       "0                 4.02         5260          375   3230  \n",
       "1                 4.13      2229163        65227   3062  \n",
       "2                 3.99         2151          391   4585  \n",
       "3                 4.14         1844          173   1533  "
      ]
     },
     "execution_count": 47,
     "metadata": {},
     "output_type": "execute_result"
    }
   ],
   "source": [
    "newdf.head(4)"
   ]
  },
  {
   "cell_type": "code",
   "execution_count": 48,
   "metadata": {},
   "outputs": [
    {
     "data": {
      "text/plain": [
       "book_average_rating         0.291317\n",
       "num_ratings            180069.814253\n",
       "num_reviews              6837.503574\n",
       "score                   11022.018268\n",
       "dtype: float64"
      ]
     },
     "execution_count": 48,
     "metadata": {},
     "output_type": "execute_result"
    }
   ],
   "source": [
    "newdf.std()"
   ]
  },
  {
   "cell_type": "markdown",
   "metadata": {},
   "source": [
    "#### In statistics, the standard deviation is a measure of the amount of variation or dispersion of a set of values. A low standard deviation(book_average_rating) indicates that the values tend to be close to the mean of the set, while a high standard deviation(num_ratings) indicates that the values are spread out over a wider range."
   ]
  },
  {
   "cell_type": "code",
   "execution_count": 49,
   "metadata": {},
   "outputs": [
    {
     "data": {
      "text/plain": [
       "book_average_rating        0.225215\n",
       "num_ratings            66577.853866\n",
       "num_reviews             3016.061533\n",
       "score                   3721.948295\n",
       "dtype: float64"
      ]
     },
     "execution_count": 49,
     "metadata": {},
     "output_type": "execute_result"
    }
   ],
   "source": [
    "newdf.mad()"
   ]
  },
  {
   "cell_type": "markdown",
   "metadata": {},
   "source": [
    "#### The mean absolute deviation of a dataset is the average distance between each data point and the mean. Therefore the value with the least MAD(book_average_rating) is closest to the mean, while the Value with the maximum MAD (num_ratings)is farthest from the mean"
   ]
  },
  {
   "cell_type": "markdown",
   "metadata": {},
   "source": [
    "### Problem 2 ( 10 points)\n",
    "Find the first quartile  (Q1), second quartile (Q2 = Median), and the third quartile(Q3) of the four numerical columns. Which variables have the lowest and highest interquartile range (IQR)? You can use the Quantile function in pandas to find these. More about quantile function is here.\n",
    "https://pandas.pydata.org/pandas-docs/stable/reference/api/pandas.DataFrame.quantile.html and here \n",
    "https://stats.stackexchange.com/questions/156778/percentile-vs-quantile-vs-quartile"
   ]
  },
  {
   "cell_type": "code",
   "execution_count": 50,
   "metadata": {},
   "outputs": [
    {
     "data": {
      "text/plain": [
       "book_average_rating      3.77\n",
       "num_ratings            820.00\n",
       "num_reviews            106.00\n",
       "score                  832.00\n",
       "Name: 0.25, dtype: float64"
      ]
     },
     "execution_count": 50,
     "metadata": {},
     "output_type": "execute_result"
    }
   ],
   "source": [
    "Q1 = newdf.quantile(0.25)\n",
    "Q1\n"
   ]
  },
  {
   "cell_type": "code",
   "execution_count": 51,
   "metadata": {},
   "outputs": [
    {
     "data": {
      "text/plain": [
       "book_average_rating        4.14\n",
       "num_ratings            20143.00\n",
       "num_reviews             1504.00\n",
       "score                   3597.50\n",
       "Name: 0.75, dtype: float64"
      ]
     },
     "execution_count": 51,
     "metadata": {},
     "output_type": "execute_result"
    }
   ],
   "source": [
    "Q3 = newdf.quantile(0.75)\n",
    "Q3"
   ]
  },
  {
   "cell_type": "code",
   "execution_count": 52,
   "metadata": {},
   "outputs": [
    {
     "data": {
      "text/plain": [
       "book_average_rating       3.96\n",
       "num_ratings            4403.00\n",
       "num_reviews             384.00\n",
       "score                  1727.00\n",
       "dtype: float64"
      ]
     },
     "execution_count": 52,
     "metadata": {},
     "output_type": "execute_result"
    }
   ],
   "source": [
    "Q2=newdf.median()\n",
    "Q2"
   ]
  },
  {
   "cell_type": "code",
   "execution_count": 53,
   "metadata": {},
   "outputs": [
    {
     "data": {
      "text/plain": [
       "book_average_rating        0.37\n",
       "num_ratings            19323.00\n",
       "num_reviews             1398.00\n",
       "score                   2765.50\n",
       "dtype: float64"
      ]
     },
     "execution_count": 53,
     "metadata": {},
     "output_type": "execute_result"
    }
   ],
   "source": [
    "IQR = Q3 - Q1\n",
    "IQR"
   ]
  },
  {
   "cell_type": "markdown",
   "metadata": {},
   "source": [
    "#### The variable book_average_rating has lowest IQR while the variable num_ratings has highest IQR"
   ]
  },
  {
   "cell_type": "markdown",
   "metadata": {},
   "source": [
    "### Problem 3 ( 10 points)\n",
    "Find the range of all 4 numerical columns. Range, by definition, is maximum minus the minimum for each variable. Using the range as a measure of spread, which variable data is ideal (symmetric), and which variable is most skewed?"
   ]
  },
  {
   "cell_type": "code",
   "execution_count": 54,
   "metadata": {},
   "outputs": [
    {
     "data": {
      "text/html": [
       "<div>\n",
       "<style scoped>\n",
       "    .dataframe tbody tr th:only-of-type {\n",
       "        vertical-align: middle;\n",
       "    }\n",
       "\n",
       "    .dataframe tbody tr th {\n",
       "        vertical-align: top;\n",
       "    }\n",
       "\n",
       "    .dataframe thead th {\n",
       "        text-align: right;\n",
       "    }\n",
       "</style>\n",
       "<table border=\"1\" class=\"dataframe\">\n",
       "  <thead>\n",
       "    <tr style=\"text-align: right;\">\n",
       "      <th></th>\n",
       "      <th>book_average_rating</th>\n",
       "      <th>num_ratings</th>\n",
       "      <th>num_reviews</th>\n",
       "      <th>score</th>\n",
       "    </tr>\n",
       "  </thead>\n",
       "  <tbody>\n",
       "    <tr>\n",
       "      <th>count</th>\n",
       "      <td>22891.000000</td>\n",
       "      <td>2.289100e+04</td>\n",
       "      <td>22891.000000</td>\n",
       "      <td>22891.000000</td>\n",
       "    </tr>\n",
       "    <tr>\n",
       "      <th>mean</th>\n",
       "      <td>3.951456</td>\n",
       "      <td>4.668349e+04</td>\n",
       "      <td>2324.754794</td>\n",
       "      <td>3893.028483</td>\n",
       "    </tr>\n",
       "    <tr>\n",
       "      <th>std</th>\n",
       "      <td>0.291317</td>\n",
       "      <td>1.800698e+05</td>\n",
       "      <td>6837.503574</td>\n",
       "      <td>11022.018268</td>\n",
       "    </tr>\n",
       "    <tr>\n",
       "      <th>min</th>\n",
       "      <td>0.000000</td>\n",
       "      <td>0.000000e+00</td>\n",
       "      <td>0.000000</td>\n",
       "      <td>55.000000</td>\n",
       "    </tr>\n",
       "    <tr>\n",
       "      <th>25%</th>\n",
       "      <td>3.770000</td>\n",
       "      <td>8.200000e+02</td>\n",
       "      <td>106.000000</td>\n",
       "      <td>832.000000</td>\n",
       "    </tr>\n",
       "    <tr>\n",
       "      <th>50%</th>\n",
       "      <td>3.960000</td>\n",
       "      <td>4.403000e+03</td>\n",
       "      <td>384.000000</td>\n",
       "      <td>1727.000000</td>\n",
       "    </tr>\n",
       "    <tr>\n",
       "      <th>75%</th>\n",
       "      <td>4.140000</td>\n",
       "      <td>2.014300e+04</td>\n",
       "      <td>1504.000000</td>\n",
       "      <td>3597.500000</td>\n",
       "    </tr>\n",
       "    <tr>\n",
       "      <th>max</th>\n",
       "      <td>5.000000</td>\n",
       "      <td>3.820921e+06</td>\n",
       "      <td>147696.000000</td>\n",
       "      <td>598270.000000</td>\n",
       "    </tr>\n",
       "  </tbody>\n",
       "</table>\n",
       "</div>"
      ],
      "text/plain": [
       "       book_average_rating   num_ratings    num_reviews          score\n",
       "count         22891.000000  2.289100e+04   22891.000000   22891.000000\n",
       "mean              3.951456  4.668349e+04    2324.754794    3893.028483\n",
       "std               0.291317  1.800698e+05    6837.503574   11022.018268\n",
       "min               0.000000  0.000000e+00       0.000000      55.000000\n",
       "25%               3.770000  8.200000e+02     106.000000     832.000000\n",
       "50%               3.960000  4.403000e+03     384.000000    1727.000000\n",
       "75%               4.140000  2.014300e+04    1504.000000    3597.500000\n",
       "max               5.000000  3.820921e+06  147696.000000  598270.000000"
      ]
     },
     "execution_count": 54,
     "metadata": {},
     "output_type": "execute_result"
    }
   ],
   "source": [
    "newdf.describe()"
   ]
  },
  {
   "cell_type": "code",
   "execution_count": 59,
   "metadata": {},
   "outputs": [
    {
     "data": {
      "text/plain": [
       "5.0"
      ]
     },
     "execution_count": 59,
     "metadata": {},
     "output_type": "execute_result"
    }
   ],
   "source": [
    "bookmax = newdf['book_average_rating' ].max()\n",
    "bookmin=newdf['book_average_rating' ].min()\n",
    "bookrange=bookmax-bookmin\n",
    "bookrange"
   ]
  },
  {
   "cell_type": "code",
   "execution_count": 63,
   "metadata": {},
   "outputs": [
    {
     "data": {
      "text/plain": [
       "3.96"
      ]
     },
     "execution_count": 63,
     "metadata": {},
     "output_type": "execute_result"
    }
   ],
   "source": [
    "newdf['book_average_rating'].median()"
   ]
  },
  {
   "cell_type": "code",
   "execution_count": 64,
   "metadata": {},
   "outputs": [
    {
     "data": {
      "text/plain": [
       "3.951456030754456"
      ]
     },
     "execution_count": 64,
     "metadata": {},
     "output_type": "execute_result"
    }
   ],
   "source": [
    "newdf['book_average_rating'].mean()"
   ]
  },
  {
   "cell_type": "markdown",
   "metadata": {},
   "source": [
    "#### Since mean is approximately equal to median in this variable data, therefore the variable data is symmetric"
   ]
  },
  {
   "cell_type": "code",
   "execution_count": 65,
   "metadata": {},
   "outputs": [
    {
     "data": {
      "text/plain": [
       "3820921"
      ]
     },
     "execution_count": 65,
     "metadata": {},
     "output_type": "execute_result"
    }
   ],
   "source": [
    "ratingsmax = newdf['num_ratings' ].max()\n",
    "ratingsmin=newdf['num_ratings' ].min()\n",
    "ratingsrange=ratingsmax-ratingsmin\n",
    "ratingsrange"
   ]
  },
  {
   "cell_type": "code",
   "execution_count": 66,
   "metadata": {},
   "outputs": [
    {
     "data": {
      "text/plain": [
       "4403.0"
      ]
     },
     "execution_count": 66,
     "metadata": {},
     "output_type": "execute_result"
    }
   ],
   "source": [
    "newdf['num_ratings'].median()"
   ]
  },
  {
   "cell_type": "code",
   "execution_count": 67,
   "metadata": {},
   "outputs": [
    {
     "data": {
      "text/plain": [
       "46683.48778996112"
      ]
     },
     "execution_count": 67,
     "metadata": {},
     "output_type": "execute_result"
    }
   ],
   "source": [
    "newdf['num_ratings'].mean()"
   ]
  },
  {
   "cell_type": "markdown",
   "metadata": {},
   "source": [
    "#### As mean>median for this variable's data, therefore this variable data is skewed towards the right"
   ]
  },
  {
   "cell_type": "code",
   "execution_count": 61,
   "metadata": {},
   "outputs": [
    {
     "data": {
      "text/plain": [
       "147696"
      ]
     },
     "execution_count": 61,
     "metadata": {},
     "output_type": "execute_result"
    }
   ],
   "source": [
    "reviewsmax = newdf['num_reviews' ].max()\n",
    "reviewsmin=newdf['num_reviews' ].min()\n",
    "reviewsrange=reviewsmax-reviewsmin\n",
    "reviewsrange"
   ]
  },
  {
   "cell_type": "code",
   "execution_count": 68,
   "metadata": {},
   "outputs": [
    {
     "data": {
      "text/plain": [
       "384.0"
      ]
     },
     "execution_count": 68,
     "metadata": {},
     "output_type": "execute_result"
    }
   ],
   "source": [
    "newdf['num_reviews'].median()"
   ]
  },
  {
   "cell_type": "code",
   "execution_count": 69,
   "metadata": {},
   "outputs": [
    {
     "data": {
      "text/plain": [
       "2324.754794460705"
      ]
     },
     "execution_count": 69,
     "metadata": {},
     "output_type": "execute_result"
    }
   ],
   "source": [
    "newdf['num_reviews'].mean()"
   ]
  },
  {
   "cell_type": "markdown",
   "metadata": {},
   "source": [
    "#### As mean>median for this variable's data, therefore this variable data is skewed towards the right"
   ]
  },
  {
   "cell_type": "code",
   "execution_count": 62,
   "metadata": {},
   "outputs": [
    {
     "data": {
      "text/plain": [
       "598215"
      ]
     },
     "execution_count": 62,
     "metadata": {},
     "output_type": "execute_result"
    }
   ],
   "source": [
    "scoremax = newdf['score' ].max()\n",
    "scoremin=newdf['score' ].min()\n",
    "scorerange=scoremax-scoremin\n",
    "scorerange"
   ]
  },
  {
   "cell_type": "code",
   "execution_count": 71,
   "metadata": {},
   "outputs": [
    {
     "data": {
      "text/plain": [
       "1727.0"
      ]
     },
     "execution_count": 71,
     "metadata": {},
     "output_type": "execute_result"
    }
   ],
   "source": [
    "newdf['score'].median()"
   ]
  },
  {
   "cell_type": "code",
   "execution_count": 70,
   "metadata": {},
   "outputs": [
    {
     "data": {
      "text/plain": [
       "3893.028482809838"
      ]
     },
     "execution_count": 70,
     "metadata": {},
     "output_type": "execute_result"
    }
   ],
   "source": [
    "newdf['score'].mean()"
   ]
  },
  {
   "cell_type": "markdown",
   "metadata": {},
   "source": [
    "#### As mean>median for this variable's data, therefore this variable data is skewed towards the right"
   ]
  },
  {
   "cell_type": "markdown",
   "metadata": {},
   "source": [
    "### Problem 4 ( 10 points)\n",
    "We will find outliers in our data on this problem. For any variable, if any data falls below\n",
    "the number $ Q1- 1.5 IQR$ or falls above the number $ Q3+ 1.5 IQR$ then those data points are outliers. Note that $IQR = Q3 - Q1$. Find how many outliers doeas each numerical variables have?"
   ]
  },
  {
   "cell_type": "code",
   "execution_count": 73,
   "metadata": {},
   "outputs": [
    {
     "data": {
      "text/plain": [
       "author_name               0\n",
       "book_title                0\n",
       "book_average_rating     423\n",
       "num_ratings            3516\n",
       "num_reviews            3086\n",
       "score                  2351\n",
       "dtype: int64"
      ]
     },
     "execution_count": 73,
     "metadata": {},
     "output_type": "execute_result"
    }
   ],
   "source": [
    "newdf[(newdf<Q1-1.5*IQR)|(newdf>Q3+1.5*IQR)].count()"
   ]
  },
  {
   "cell_type": "markdown",
   "metadata": {},
   "source": [
    "### Problem 5 (10 points)"
   ]
  },
  {
   "cell_type": "markdown",
   "metadata": {},
   "source": [
    "Create a box plot for all 4 numerical variables."
   ]
  },
  {
   "cell_type": "code",
   "execution_count": 74,
   "metadata": {},
   "outputs": [
    {
     "data": {
      "image/png": "[encoded data removed]",
      "text/plain": [
       "<Figure size 432x288 with 1 Axes>"
      ]
     },
     "metadata": {
      "needs_background": "light"
     },
     "output_type": "display_data"
    }
   ],
   "source": [
    "boxplot = df.boxplot(column=['book_average_rating', 'num_ratings', 'num_reviews','score'])"
   ]
  },
  {
   "cell_type": "code",
   "execution_count": null,
   "metadata": {},
   "outputs": [],
   "source": []
  }
 ],
 "metadata": {
  "kernelspec": {
   "display_name": "Python 3",
   "language": "python",
   "name": "python3"
  },
  "language_info": {
   "codemirror_mode": {
    "name": "ipython",
    "version": 3
   },
   "file_extension": ".py",
   "mimetype": "text/x-python",
   "name": "python",
   "nbconvert_exporter": "python",
   "pygments_lexer": "ipython3",
   "version": "3.8.3"
  }
 },
 "nbformat": 4,
 "nbformat_minor": 2
}
